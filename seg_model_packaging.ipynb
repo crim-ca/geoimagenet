{
  "cells": [
    {
      "cell_type": "markdown",
      "metadata": {},
      "source": [
        "<table class=\"ee-notebook-buttons\" align=\"left\">\n",
        "    <td><a target=\"_blank\"  href=\"https://github.com/crim-ca/geoimagenet/blob/master/seg_model_packaging.ipynb\"><img width=32px src=\"https://www.tensorflow.org/images/GitHub-Mark-32px.png\" /> View source on GitHub</a></td>\n",
        "    <td><a target=\"_blank\"  href=\"https://nbviewer.jupyter.org/github/crim-ca/geoimagenet/blob/master/seg_model_packaging.ipynb\"><img width=26px src=\"https://upload.wikimedia.org/wikipedia/commons/thumb/3/38/Jupyter_logo.svg/883px-Jupyter_logo.svg.png\" />Notebook Viewer</a></td>\n",
        "    <td><a target=\"_blank\"  href=\"https://colab.research.google.com/github/crim-ca/geoimagenet/blob/master/seg_model_packaging.ipynb\"><img src=\"https://www.tensorflow.org/images/colab_logo_32px.png\" /> Run in Google Colab</a></td>\n",
        "</table>"
      ]
    },
    {
      "cell_type": "markdown",
      "metadata": {
        "id": "035kgZ8EwdWn",
        "colab_type": "text"
      },
      "source": [
        "# SegNet Model Packaging for GeoImageNet"
      ]
    },
    {
      "cell_type": "markdown",
      "metadata": {
        "id": "fmTElCSfdn-W",
        "colab_type": "text"
      },
      "source": [
        "This notebook explains how to package a SegNet model using the thelper library. More details about thelper export function can be found here:\n",
        "\n",
        "https://thelper.readthedocs.io/en/latest/user-guide.html#export-model\n",
        "\n",
        "First, we need to install the required libraries."
      ]
    },
    {
      "cell_type": "markdown",
      "metadata": {
        "id": "hbAANhpeTdE3",
        "colab_type": "text"
      },
      "source": [
        "### Environnement Configuration"
      ]
    },
    {
      "cell_type": "code",
      "metadata": {
        "id": "ZTCbXAh_dNhe",
        "colab_type": "code",
        "colab": {
          "base_uri": "https://localhost:8080/",
          "height": 51
        },
        "outputId": "c90ff009-98e4-4aad-a95f-fd2ce6c9ce97"
      },
      "source": [
        "%%bash\n",
        "pip3 --quiet install  torch torchvision pillow gitpython lz4 matplotlib numpy pyyaml scikit-learn six tqdm h5py opencv-python  pretrainedmodels albumentations pyyaml\n",
        "pip3 --quiet install affine geojson shapely pyproj hdf5plugin\n",
        "pip uninstall thelper\n",
        "rm -rf ./thelper\n",
        "git clone https://github.com/plstcharles/thelper\n",
        "pip3 install --quiet -e ./thelper"
      ],
      "execution_count": 8,
      "outputs": [
        {
          "output_type": "stream",
          "text": [
            "WARNING: Skipping thelper as it is not installed.\n",
            "Cloning into 'thelper'...\n"
          ],
          "name": "stderr"
        }
      ]
    },
    {
      "cell_type": "markdown",
      "metadata": {
        "id": "RWxnRTp0xMcZ",
        "colab_type": "text"
      },
      "source": [
        "We also install an external repo containing new models as well as useful functions."
      ]
    },
    {
      "cell_type": "code",
      "metadata": {
        "id": "zfnyEC4XShsT",
        "colab_type": "code",
        "colab": {
          "base_uri": "https://localhost:8080/",
          "height": 119
        },
        "outputId": "9cb6c8ac-2e78-4e5f-e3a8-7e5f6a483e04"
      },
      "source": [
        "!git clone https://github.com/crim-ca/gin-model-repo\n",
        "!pip3 install --quiet -e ./gin-model-repo"
      ],
      "execution_count": 9,
      "outputs": [
        {
          "output_type": "stream",
          "text": [
            "Cloning into 'gin-model-repo'...\n",
            "remote: Enumerating objects: 35, done.\u001b[K\n",
            "remote: Counting objects: 100% (35/35), done.\u001b[K\n",
            "remote: Compressing objects: 100% (25/25), done.\u001b[K\n",
            "remote: Total 35 (delta 9), reused 31 (delta 8), pack-reused 0\u001b[K\n",
            "Unpacking objects: 100% (35/35), done.\n"
          ],
          "name": "stdout"
        }
      ]
    },
    {
      "cell_type": "markdown",
      "metadata": {
        "id": "qNj5WKX4glBd",
        "colab_type": "text"
      },
      "source": [
        "The first time you are installing thelper, you may need to restart the current session"
      ]
    },
    {
      "cell_type": "code",
      "metadata": {
        "id": "ncPe5mi4ggko",
        "colab_type": "code",
        "colab": {}
      },
      "source": [
        "import os\n",
        "os.kill(os.getpid(), 9)"
      ],
      "execution_count": null,
      "outputs": []
    },
    {
      "cell_type": "markdown",
      "metadata": {
        "id": "Z0TssCLDxcTg",
        "colab_type": "text"
      },
      "source": [
        "Make sure thelper is imported correctly"
      ]
    },
    {
      "cell_type": "code",
      "metadata": {
        "id": "dQGmKjyifhmw",
        "colab_type": "code",
        "colab": {}
      },
      "source": [
        "import os\n",
        "import torch\n",
        "import torchvision\n",
        "import thelper\n",
        "import ginmodelrepo\n",
        "\n",
        "thelper.utils.init_logger()"
      ],
      "execution_count": 1,
      "outputs": []
    },
    {
      "cell_type": "markdown",
      "metadata": {
        "id": "wTnTevFwwVqg",
        "colab_type": "text"
      },
      "source": [
        "We download a UNet trained on DeepGlobe:"
      ]
    },
    {
      "cell_type": "code",
      "metadata": {
        "id": "j_qgXYu1Emzb",
        "colab_type": "code",
        "colab": {
          "base_uri": "https://localhost:8080/",
          "height": 68
        },
        "outputId": "bd5eda14-f266-42b4-d2fb-9446d2315a61"
      },
      "source": [
        "from ginmodelrepo.util import maybe_download_and_extract\n",
        "maybe_download_and_extract('1ZHWFysFvIrdBELQKfrNXk7SwUSegqTaY','/content/model.pth')"
      ],
      "execution_count": 2,
      "outputs": [
        {
          "output_type": "stream",
          "text": [
            "Downloading 1ZHWFysFvIrdBELQKfrNXk7SwUSegqTaY into /content/model.pth... Done.\n",
            "Download finished. Extracting files.\n",
            "Done.\n"
          ],
          "name": "stdout"
        }
      ]
    },
    {
      "cell_type": "markdown",
      "metadata": {
        "id": "o6guok64yTkV",
        "colab_type": "text"
      },
      "source": [
        "Name your model"
      ]
    },
    {
      "cell_type": "code",
      "metadata": {
        "id": "SfvP5X9adOcp",
        "colab_type": "code",
        "colab": {}
      },
      "source": [
        "model_name = 'deepglobe-unet'"
      ],
      "execution_count": 3,
      "outputs": []
    },
    {
      "cell_type": "markdown",
      "metadata": {
        "id": "LnMLlqEqnQE_",
        "colab_type": "text"
      },
      "source": [
        "### Configuration\n",
        "\n",
        "Specify your class names:"
      ]
    },
    {
      "cell_type": "code",
      "metadata": {
        "id": "HaMPZbu2nXlF",
        "colab_type": "code",
        "colab": {}
      },
      "source": [
        "class_names = [\"Background\", \"AgriculturalLand\", \"BarrenLand\", \"ForestLand\", \"RangeLand\", \"UrbanLand\", \"Water\"]"
      ],
      "execution_count": 4,
      "outputs": []
    },
    {
      "cell_type": "markdown",
      "metadata": {
        "id": "Ql9e7apy5cvU",
        "colab_type": "text"
      },
      "source": [
        "#### Consulting the Taxonomy\n",
        "You can consult the GeoImageNet Taxonomies, at level 0 it will you give how many taxonomies are available:"
      ]
    },
    {
      "cell_type": "code",
      "metadata": {
        "id": "vmnFaMe15mqR",
        "colab_type": "code",
        "colab": {
          "base_uri": "https://localhost:8080/",
          "height": 54
        },
        "outputId": "29b30dcf-d3db-46c3-9610-fd5d6182f582"
      },
      "source": [
        "import requests\n",
        "import json\n",
        "response = requests.get('https://geoimagenet.ca/api/v1/taxonomy_classes?depth=0')\n",
        "taxonomy_classes = json.loads(response.content)\n",
        "print(taxonomy_classes)"
      ],
      "execution_count": 5,
      "outputs": [
        {
          "output_type": "stream",
          "text": [
            "[{'id': 205, 'name_fr': 'Couverture de sol', 'taxonomy_id': 2, 'code': 'COUV', 'name_en': 'Land cover', 'children': []}, {'id': 1, 'name_fr': 'Objets', 'taxonomy_id': 1, 'code': 'OBJE', 'name_en': 'Objects', 'children': []}]\n"
          ],
          "name": "stdout"
        }
      ]
    },
    {
      "cell_type": "markdown",
      "metadata": {
        "id": "9Hd1FuDl6Psf",
        "colab_type": "text"
      },
      "source": [
        "You can see that two taxonomies are available: Land cover and Objects. We can consult the Land Cover taxonomy at level 1"
      ]
    },
    {
      "cell_type": "code",
      "metadata": {
        "id": "asWQBJN76dI8",
        "colab_type": "code",
        "colab": {
          "base_uri": "https://localhost:8080/",
          "height": 54
        },
        "outputId": "2195af6d-4cf9-4903-8e03-5a82be2bd48a"
      },
      "source": [
        "response = requests.get('https://geoimagenet.ca/api/v1/taxonomy_classes?taxonomy_name=land-cover&depth=1')\n",
        "taxonomy_classes = json.loads(response.content)\n",
        "print(taxonomy_classes)"
      ],
      "execution_count": 6,
      "outputs": [
        {
          "output_type": "stream",
          "text": [
            "[{'id': 205, 'name_fr': 'Couverture de sol', 'taxonomy_id': 2, 'code': 'COUV', 'name_en': 'Land cover', 'children': [{'id': 206, 'name_fr': 'Urbain ou bâti', 'taxonomy_id': 2, 'code': 'URBA', 'name_en': 'Urban or Built-up Land', 'children': [{'id': 207, 'name_fr': 'Zone résidentielle', 'taxonomy_id': 2, 'code': 'RESD', 'name_en': 'Residential', 'children': [{'id': 208, 'name_fr': 'Densité faible', 'taxonomy_id': 2, 'code': 'DENS', 'name_en': 'Low density', 'children': []}, {'id': 209, 'name_fr': 'Densité moyenne', 'taxonomy_id': 2, 'code': 'DENI', 'name_en': 'Medium density', 'children': []}, {'id': 210, 'name_fr': 'Densité élevée', 'taxonomy_id': 2, 'code': 'DENT', 'name_en': 'High density', 'children': []}, {'id': 211, 'name_fr': 'Parc de maisons mobiles', 'taxonomy_id': 2, 'code': 'PARC', 'name_en': 'Mobile home park', 'children': []}]}, {'id': 212, 'name_fr': 'Zone commerciales et services', 'taxonomy_id': 2, 'code': 'COMC', 'name_en': 'Commercial and Services', 'children': [{'id': 213, 'name_fr': 'Terrain associé au commerce ou au service', 'taxonomy_id': 2, 'code': 'TERR', 'name_en': 'Ground related to commercial or services', 'children': []}, {'id': 278, 'name_fr': 'Campus (université ou collège)', 'taxonomy_id': 2, 'code': 'CAMP', 'name_en': 'Campus (university or college)', 'children': []}]}, {'id': 214, 'name_fr': 'Zone industrielle', 'taxonomy_id': 2, 'code': 'INDS', 'name_en': 'Industrial', 'children': [{'id': 215, 'name_fr': \"Terrain associé à l'industrie\", 'taxonomy_id': 2, 'code': 'TERA', 'name_en': 'Ground related to industry', 'children': []}]}, {'id': 216, 'name_fr': 'Zone de transport', 'taxonomy_id': 2, 'code': 'TRAS', 'name_en': 'Transportation', 'children': [{'id': 217, 'name_fr': 'Emprise/corridor de transport routier', 'taxonomy_id': 2, 'code': 'EMPR', 'name_en': 'Road corridor', 'children': []}, {'id': 218, 'name_fr': 'Emprise/corridor de transport ferroviaire', 'taxonomy_id': 2, 'code': 'EMPI', 'name_en': 'Train corridor', 'children': []}, {'id': 219, 'name_fr': 'Zone portuaire', 'taxonomy_id': 2, 'code': 'ZONE', 'name_en': 'Harbour area', 'children': []}, {'id': 220, 'name_fr': 'Zone aéroportuaire', 'taxonomy_id': 2, 'code': 'ZONA', 'name_en': 'Airport area', 'children': []}]}, {'id': 221, 'name_fr': 'Énergie', 'taxonomy_id': 2, 'code': 'ENEY', 'name_en': 'Energy', 'children': [{'id': 222, 'name_fr': \"Emprise/corridor de transport d'énergie électrique\", 'taxonomy_id': 2, 'code': 'EMPS', 'name_en': 'Electrical power right of way', 'children': []}, {'id': 223, 'name_fr': 'Emprise de pipeline', 'taxonomy_id': 2, 'code': 'EMPE', 'name_en': 'Pipeline right of way', 'children': []}, {'id': 224, 'name_fr': 'Parc solaire', 'taxonomy_id': 2, 'code': 'PARS', 'name_en': 'Solar park', 'children': []}]}, {'id': 225, 'name_fr': 'Urbain et bâti autre', 'taxonomy_id': 2, 'code': 'OTHU', 'name_en': 'Other Urban or Built-up Land', 'children': [{'id': 226, 'name_fr': 'Parc, espace vert', 'taxonomy_id': 2, 'code': 'PARE', 'name_en': 'Park, green space', 'children': []}, {'id': 227, 'name_fr': 'Terrain associé aux installations (traitement des eaux, traitement des déchets)', 'taxonomy_id': 2, 'code': 'TERI', 'name_en': 'Ground related to installations (water treatment, waste treatment', 'children': []}]}]}, {'id': 228, 'name_fr': 'Terre agricole', 'taxonomy_id': 2, 'code': 'AGRU', 'name_en': 'Agricultural Land', 'children': [{'id': 229, 'name_fr': 'Grande culture', 'taxonomy_id': 2, 'code': 'GRAN', 'name_en': 'Cropland', 'children': []}, {'id': 230, 'name_fr': 'Maraîcher', 'taxonomy_id': 2, 'code': 'MARA', 'name_en': 'Vegetable crop', 'children': []}, {'id': 231, 'name_fr': 'Pâturage', 'taxonomy_id': 2, 'code': 'PATU', 'name_en': 'Pasture', 'children': []}, {'id': 232, 'name_fr': 'Ferme (terrain avec bâtiments)', 'taxonomy_id': 2, 'code': 'FERM', 'name_en': 'Farmhouse and buildings / Farmstead', 'children': []}, {'id': 233, 'name_fr': 'Terre agricole autre', 'taxonomy_id': 2, 'code': 'OTHA', 'name_en': 'Other Agricultural Land', 'children': []}]}, {'id': 234, 'name_fr': 'Pâturage', 'taxonomy_id': 2, 'code': 'RANG', 'name_en': 'Rangeland', 'children': [{'id': 235, 'name_fr': 'Pâturage herbeux', 'taxonomy_id': 2, 'code': 'HERB', 'name_en': 'Herbaceous Rangeland', 'children': []}, {'id': 236, 'name_fr': 'Pâturage arbuste et buisson', 'taxonomy_id': 2, 'code': 'SHRU', 'name_en': 'Shrub and Brush Rangeland', 'children': []}, {'id': 237, 'name_fr': 'Pâturage mixte', 'taxonomy_id': 2, 'code': 'MIXE', 'name_en': 'Mixed Rangeland', 'children': []}]}, {'id': 238, 'name_fr': 'Région forestière', 'taxonomy_id': 2, 'code': 'FORE', 'name_en': 'Forest Land', 'children': [{'id': 239, 'name_fr': 'Forêt feuillue', 'taxonomy_id': 2, 'code': 'DECD', 'name_en': 'Deciduous Forest Land', 'children': []}, {'id': 240, 'name_fr': 'Forêt conifère', 'taxonomy_id': 2, 'code': 'EVER', 'name_en': 'Evergreen Forest Land', 'children': []}, {'id': 241, 'name_fr': 'Forêt mixte', 'taxonomy_id': 2, 'code': 'MIXD', 'name_en': 'Mixed Forest Land', 'children': []}, {'id': 242, 'name_fr': 'Plantation', 'taxonomy_id': 2, 'code': 'PLAN', 'name_en': 'Plantation', 'children': []}, {'id': 243, 'name_fr': 'Perturbation récente (feu, coupe)', 'taxonomy_id': 2, 'code': 'RECE', 'name_en': 'Recent disturbance (fire, clear-cut)', 'children': []}]}, {'id': 244, 'name_fr': 'Région hydrique', 'taxonomy_id': 2, 'code': 'WAER', 'name_en': 'Water', 'children': [{'id': 245, 'name_fr': 'Fleuve/ ruisseau', 'taxonomy_id': 2, 'code': 'STRA', 'name_en': 'Stream', 'children': []}, {'id': 246, 'name_fr': 'Lac', 'taxonomy_id': 2, 'code': 'LAKE', 'name_en': 'Lake', 'children': []}, {'id': 247, 'name_fr': 'Réservoir', 'taxonomy_id': 2, 'code': 'RESE', 'name_en': 'Reservoir', 'children': []}, {'id': 248, 'name_fr': 'Baie et esturaire', 'taxonomy_id': 2, 'code': 'BAYS', 'name_en': 'Bay and Estuarie', 'children': []}, {'id': 249, 'name_fr': 'Canal', 'taxonomy_id': 2, 'code': 'CANA', 'name_en': 'Canal', 'children': []}]}, {'id': 250, 'name_fr': 'Milieu humide', 'taxonomy_id': 2, 'code': 'WETA', 'name_en': 'Wetland', 'children': [{'id': 251, 'name_fr': 'Tourbière boisée', 'taxonomy_id': 2, 'code': 'FORS', 'name_en': 'Forested peatland', 'children': []}, {'id': 252, 'name_fr': 'Bog (tourbière ombrotrophe)', 'taxonomy_id': 2, 'code': 'BOGG', 'name_en': 'Bog', 'children': []}, {'id': 253, 'name_fr': 'Fen (tourbière minérotrophe)', 'taxonomy_id': 2, 'code': 'FNEN', 'name_en': 'Fen', 'children': []}, {'id': 254, 'name_fr': 'Marécage', 'taxonomy_id': 2, 'code': 'SWAP', 'name_en': 'Swamp', 'children': []}, {'id': 255, 'name_fr': 'Marais', 'taxonomy_id': 2, 'code': 'MARH', 'name_en': 'Marsh', 'children': []}, {'id': 279, 'name_fr': 'Eau peu profonde', 'taxonomy_id': 2, 'code': 'SHAW', 'name_en': 'Shallow water', 'children': []}]}, {'id': 256, 'name_fr': 'Sans végétation', 'taxonomy_id': 2, 'code': 'BARR', 'name_en': 'Barren Land', 'children': [{'id': 257, 'name_fr': 'Salant sec', 'taxonomy_id': 2, 'code': 'DRYS', 'name_en': 'Dry Salt Flat', 'children': []}, {'id': 258, 'name_fr': 'Plage', 'taxonomy_id': 2, 'code': 'BEAC', 'name_en': 'Beach', 'children': []}, {'id': 259, 'name_fr': 'Zone sablonneuse (pas plage)', 'taxonomy_id': 2, 'code': 'SAND', 'name_en': 'Sandy Area other than Beach', 'children': []}, {'id': 260, 'name_fr': 'Affleurement rocheux', 'taxonomy_id': 2, 'code': 'BARE', 'name_en': 'Bare Exposed Rock', 'children': []}, {'id': 261, 'name_fr': 'Carrière à ciel ouvert et gravière', 'taxonomy_id': 2, 'code': 'STRI', 'name_en': 'Strip Mine Quarrie, and Gravel Pit', 'children': []}, {'id': 262, 'name_fr': 'Zone de transistion', 'taxonomy_id': 2, 'code': 'TRAT', 'name_en': 'Transitional Area', 'children': []}, {'id': 263, 'name_fr': 'Terrain sans végétation - mixte', 'taxonomy_id': 2, 'code': 'MIXB', 'name_en': 'Mixed Barren Land', 'children': []}]}, {'id': 264, 'name_fr': 'Toundra', 'taxonomy_id': 2, 'code': 'TUND', 'name_en': 'Tundra', 'children': [{'id': 265, 'name_fr': 'Toundra arbuste et buisson', 'taxonomy_id': 2, 'code': 'SHRB', 'name_en': 'Shrub and Brush Tundra', 'children': []}, {'id': 266, 'name_fr': 'Toundra herbeuse', 'taxonomy_id': 2, 'code': 'HERA', 'name_en': 'Herbaceous Tundra', 'children': []}, {'id': 267, 'name_fr': 'Toundra sol nu', 'taxonomy_id': 2, 'code': 'BARG', 'name_en': 'Bare Ground Tundra', 'children': []}, {'id': 268, 'name_fr': 'Toundra humide', 'taxonomy_id': 2, 'code': 'WETT', 'name_en': 'Wet Tundra', 'children': []}, {'id': 269, 'name_fr': 'Toundra mixte', 'taxonomy_id': 2, 'code': 'MIXT', 'name_en': 'Mixed Tundra', 'children': []}]}, {'id': 270, 'name_fr': 'Neige et glace permanentes', 'taxonomy_id': 2, 'code': 'PERE', 'name_en': 'Perennial Snow or Ice', 'children': [{'id': 271, 'name_fr': 'Neige permanente', 'taxonomy_id': 2, 'code': 'PERN', 'name_en': 'Perennial Snowfield', 'children': []}, {'id': 272, 'name_fr': 'Glacier', 'taxonomy_id': 2, 'code': 'GLAI', 'name_en': 'Glacier', 'children': []}]}, {'id': 273, 'name_fr': 'Forme terrestre', 'taxonomy_id': 2, 'code': 'FORM', 'name_en': 'Glacial landform', 'children': [{'id': 274, 'name_fr': 'Esker', 'taxonomy_id': 2, 'code': 'ESKR', 'name_en': 'Esker', 'children': []}, {'id': 275, 'name_fr': 'Moraine', 'taxonomy_id': 2, 'code': 'MORI', 'name_en': 'Moraine', 'children': []}, {'id': 276, 'name_fr': 'Pingo', 'taxonomy_id': 2, 'code': 'PINO', 'name_en': 'Pingo', 'children': []}, {'id': 277, 'name_fr': 'Drumlin', 'taxonomy_id': 2, 'code': 'DRUL', 'name_en': 'Drumlin', 'children': []}]}]}]\n"
          ],
          "name": "stdout"
        }
      ]
    },
    {
      "cell_type": "markdown",
      "metadata": {
        "id": "6OYw7ztWvaFr",
        "colab_type": "text"
      },
      "source": [
        "Check that your classes are defined in the taxonomy"
      ]
    },
    {
      "cell_type": "code",
      "metadata": {
        "id": "s3rizSwOqgzu",
        "colab_type": "code",
        "colab": {
          "base_uri": "https://localhost:8080/",
          "height": 54
        },
        "outputId": "d299d3d1-f95f-4091-df8d-4494109f9a41"
      },
      "source": [
        "\n",
        "response = requests.get('https://geoimagenet.ca/api/v1/taxonomy_classes?taxonomy_name=land-cover')\n",
        "taxonomy_classes = json.loads(response.content)\n",
        "print(taxonomy_classes)"
      ],
      "execution_count": 7,
      "outputs": [
        {
          "output_type": "stream",
          "text": [
            "[{'id': 205, 'name_fr': 'Couverture de sol', 'taxonomy_id': 2, 'code': 'COUV', 'name_en': 'Land cover', 'children': [{'id': 206, 'name_fr': 'Urbain ou bâti', 'taxonomy_id': 2, 'code': 'URBA', 'name_en': 'Urban or Built-up Land', 'children': [{'id': 207, 'name_fr': 'Zone résidentielle', 'taxonomy_id': 2, 'code': 'RESD', 'name_en': 'Residential', 'children': [{'id': 208, 'name_fr': 'Densité faible', 'taxonomy_id': 2, 'code': 'DENS', 'name_en': 'Low density', 'children': []}, {'id': 209, 'name_fr': 'Densité moyenne', 'taxonomy_id': 2, 'code': 'DENI', 'name_en': 'Medium density', 'children': []}, {'id': 210, 'name_fr': 'Densité élevée', 'taxonomy_id': 2, 'code': 'DENT', 'name_en': 'High density', 'children': []}, {'id': 211, 'name_fr': 'Parc de maisons mobiles', 'taxonomy_id': 2, 'code': 'PARC', 'name_en': 'Mobile home park', 'children': []}]}, {'id': 212, 'name_fr': 'Zone commerciales et services', 'taxonomy_id': 2, 'code': 'COMC', 'name_en': 'Commercial and Services', 'children': [{'id': 213, 'name_fr': 'Terrain associé au commerce ou au service', 'taxonomy_id': 2, 'code': 'TERR', 'name_en': 'Ground related to commercial or services', 'children': []}, {'id': 278, 'name_fr': 'Campus (université ou collège)', 'taxonomy_id': 2, 'code': 'CAMP', 'name_en': 'Campus (university or college)', 'children': []}]}, {'id': 214, 'name_fr': 'Zone industrielle', 'taxonomy_id': 2, 'code': 'INDS', 'name_en': 'Industrial', 'children': [{'id': 215, 'name_fr': \"Terrain associé à l'industrie\", 'taxonomy_id': 2, 'code': 'TERA', 'name_en': 'Ground related to industry', 'children': []}]}, {'id': 216, 'name_fr': 'Zone de transport', 'taxonomy_id': 2, 'code': 'TRAS', 'name_en': 'Transportation', 'children': [{'id': 217, 'name_fr': 'Emprise/corridor de transport routier', 'taxonomy_id': 2, 'code': 'EMPR', 'name_en': 'Road corridor', 'children': []}, {'id': 218, 'name_fr': 'Emprise/corridor de transport ferroviaire', 'taxonomy_id': 2, 'code': 'EMPI', 'name_en': 'Train corridor', 'children': []}, {'id': 219, 'name_fr': 'Zone portuaire', 'taxonomy_id': 2, 'code': 'ZONE', 'name_en': 'Harbour area', 'children': []}, {'id': 220, 'name_fr': 'Zone aéroportuaire', 'taxonomy_id': 2, 'code': 'ZONA', 'name_en': 'Airport area', 'children': []}]}, {'id': 221, 'name_fr': 'Énergie', 'taxonomy_id': 2, 'code': 'ENEY', 'name_en': 'Energy', 'children': [{'id': 222, 'name_fr': \"Emprise/corridor de transport d'énergie électrique\", 'taxonomy_id': 2, 'code': 'EMPS', 'name_en': 'Electrical power right of way', 'children': []}, {'id': 223, 'name_fr': 'Emprise de pipeline', 'taxonomy_id': 2, 'code': 'EMPE', 'name_en': 'Pipeline right of way', 'children': []}, {'id': 224, 'name_fr': 'Parc solaire', 'taxonomy_id': 2, 'code': 'PARS', 'name_en': 'Solar park', 'children': []}]}, {'id': 225, 'name_fr': 'Urbain et bâti autre', 'taxonomy_id': 2, 'code': 'OTHU', 'name_en': 'Other Urban or Built-up Land', 'children': [{'id': 226, 'name_fr': 'Parc, espace vert', 'taxonomy_id': 2, 'code': 'PARE', 'name_en': 'Park, green space', 'children': []}, {'id': 227, 'name_fr': 'Terrain associé aux installations (traitement des eaux, traitement des déchets)', 'taxonomy_id': 2, 'code': 'TERI', 'name_en': 'Ground related to installations (water treatment, waste treatment', 'children': []}]}]}, {'id': 228, 'name_fr': 'Terre agricole', 'taxonomy_id': 2, 'code': 'AGRU', 'name_en': 'Agricultural Land', 'children': [{'id': 229, 'name_fr': 'Grande culture', 'taxonomy_id': 2, 'code': 'GRAN', 'name_en': 'Cropland', 'children': []}, {'id': 230, 'name_fr': 'Maraîcher', 'taxonomy_id': 2, 'code': 'MARA', 'name_en': 'Vegetable crop', 'children': []}, {'id': 231, 'name_fr': 'Pâturage', 'taxonomy_id': 2, 'code': 'PATU', 'name_en': 'Pasture', 'children': []}, {'id': 232, 'name_fr': 'Ferme (terrain avec bâtiments)', 'taxonomy_id': 2, 'code': 'FERM', 'name_en': 'Farmhouse and buildings / Farmstead', 'children': []}, {'id': 233, 'name_fr': 'Terre agricole autre', 'taxonomy_id': 2, 'code': 'OTHA', 'name_en': 'Other Agricultural Land', 'children': []}]}, {'id': 234, 'name_fr': 'Pâturage', 'taxonomy_id': 2, 'code': 'RANG', 'name_en': 'Rangeland', 'children': [{'id': 235, 'name_fr': 'Pâturage herbeux', 'taxonomy_id': 2, 'code': 'HERB', 'name_en': 'Herbaceous Rangeland', 'children': []}, {'id': 236, 'name_fr': 'Pâturage arbuste et buisson', 'taxonomy_id': 2, 'code': 'SHRU', 'name_en': 'Shrub and Brush Rangeland', 'children': []}, {'id': 237, 'name_fr': 'Pâturage mixte', 'taxonomy_id': 2, 'code': 'MIXE', 'name_en': 'Mixed Rangeland', 'children': []}]}, {'id': 238, 'name_fr': 'Région forestière', 'taxonomy_id': 2, 'code': 'FORE', 'name_en': 'Forest Land', 'children': [{'id': 239, 'name_fr': 'Forêt feuillue', 'taxonomy_id': 2, 'code': 'DECD', 'name_en': 'Deciduous Forest Land', 'children': []}, {'id': 240, 'name_fr': 'Forêt conifère', 'taxonomy_id': 2, 'code': 'EVER', 'name_en': 'Evergreen Forest Land', 'children': []}, {'id': 241, 'name_fr': 'Forêt mixte', 'taxonomy_id': 2, 'code': 'MIXD', 'name_en': 'Mixed Forest Land', 'children': []}, {'id': 242, 'name_fr': 'Plantation', 'taxonomy_id': 2, 'code': 'PLAN', 'name_en': 'Plantation', 'children': []}, {'id': 243, 'name_fr': 'Perturbation récente (feu, coupe)', 'taxonomy_id': 2, 'code': 'RECE', 'name_en': 'Recent disturbance (fire, clear-cut)', 'children': []}]}, {'id': 244, 'name_fr': 'Région hydrique', 'taxonomy_id': 2, 'code': 'WAER', 'name_en': 'Water', 'children': [{'id': 245, 'name_fr': 'Fleuve/ ruisseau', 'taxonomy_id': 2, 'code': 'STRA', 'name_en': 'Stream', 'children': []}, {'id': 246, 'name_fr': 'Lac', 'taxonomy_id': 2, 'code': 'LAKE', 'name_en': 'Lake', 'children': []}, {'id': 247, 'name_fr': 'Réservoir', 'taxonomy_id': 2, 'code': 'RESE', 'name_en': 'Reservoir', 'children': []}, {'id': 248, 'name_fr': 'Baie et esturaire', 'taxonomy_id': 2, 'code': 'BAYS', 'name_en': 'Bay and Estuarie', 'children': []}, {'id': 249, 'name_fr': 'Canal', 'taxonomy_id': 2, 'code': 'CANA', 'name_en': 'Canal', 'children': []}]}, {'id': 250, 'name_fr': 'Milieu humide', 'taxonomy_id': 2, 'code': 'WETA', 'name_en': 'Wetland', 'children': [{'id': 251, 'name_fr': 'Tourbière boisée', 'taxonomy_id': 2, 'code': 'FORS', 'name_en': 'Forested peatland', 'children': []}, {'id': 252, 'name_fr': 'Bog (tourbière ombrotrophe)', 'taxonomy_id': 2, 'code': 'BOGG', 'name_en': 'Bog', 'children': []}, {'id': 253, 'name_fr': 'Fen (tourbière minérotrophe)', 'taxonomy_id': 2, 'code': 'FNEN', 'name_en': 'Fen', 'children': []}, {'id': 254, 'name_fr': 'Marécage', 'taxonomy_id': 2, 'code': 'SWAP', 'name_en': 'Swamp', 'children': []}, {'id': 255, 'name_fr': 'Marais', 'taxonomy_id': 2, 'code': 'MARH', 'name_en': 'Marsh', 'children': []}, {'id': 279, 'name_fr': 'Eau peu profonde', 'taxonomy_id': 2, 'code': 'SHAW', 'name_en': 'Shallow water', 'children': []}]}, {'id': 256, 'name_fr': 'Sans végétation', 'taxonomy_id': 2, 'code': 'BARR', 'name_en': 'Barren Land', 'children': [{'id': 257, 'name_fr': 'Salant sec', 'taxonomy_id': 2, 'code': 'DRYS', 'name_en': 'Dry Salt Flat', 'children': []}, {'id': 258, 'name_fr': 'Plage', 'taxonomy_id': 2, 'code': 'BEAC', 'name_en': 'Beach', 'children': []}, {'id': 259, 'name_fr': 'Zone sablonneuse (pas plage)', 'taxonomy_id': 2, 'code': 'SAND', 'name_en': 'Sandy Area other than Beach', 'children': []}, {'id': 260, 'name_fr': 'Affleurement rocheux', 'taxonomy_id': 2, 'code': 'BARE', 'name_en': 'Bare Exposed Rock', 'children': []}, {'id': 261, 'name_fr': 'Carrière à ciel ouvert et gravière', 'taxonomy_id': 2, 'code': 'STRI', 'name_en': 'Strip Mine Quarrie, and Gravel Pit', 'children': []}, {'id': 262, 'name_fr': 'Zone de transistion', 'taxonomy_id': 2, 'code': 'TRAT', 'name_en': 'Transitional Area', 'children': []}, {'id': 263, 'name_fr': 'Terrain sans végétation - mixte', 'taxonomy_id': 2, 'code': 'MIXB', 'name_en': 'Mixed Barren Land', 'children': []}]}, {'id': 264, 'name_fr': 'Toundra', 'taxonomy_id': 2, 'code': 'TUND', 'name_en': 'Tundra', 'children': [{'id': 265, 'name_fr': 'Toundra arbuste et buisson', 'taxonomy_id': 2, 'code': 'SHRB', 'name_en': 'Shrub and Brush Tundra', 'children': []}, {'id': 266, 'name_fr': 'Toundra herbeuse', 'taxonomy_id': 2, 'code': 'HERA', 'name_en': 'Herbaceous Tundra', 'children': []}, {'id': 267, 'name_fr': 'Toundra sol nu', 'taxonomy_id': 2, 'code': 'BARG', 'name_en': 'Bare Ground Tundra', 'children': []}, {'id': 268, 'name_fr': 'Toundra humide', 'taxonomy_id': 2, 'code': 'WETT', 'name_en': 'Wet Tundra', 'children': []}, {'id': 269, 'name_fr': 'Toundra mixte', 'taxonomy_id': 2, 'code': 'MIXT', 'name_en': 'Mixed Tundra', 'children': []}]}, {'id': 270, 'name_fr': 'Neige et glace permanentes', 'taxonomy_id': 2, 'code': 'PERE', 'name_en': 'Perennial Snow or Ice', 'children': [{'id': 271, 'name_fr': 'Neige permanente', 'taxonomy_id': 2, 'code': 'PERN', 'name_en': 'Perennial Snowfield', 'children': []}, {'id': 272, 'name_fr': 'Glacier', 'taxonomy_id': 2, 'code': 'GLAI', 'name_en': 'Glacier', 'children': []}]}, {'id': 273, 'name_fr': 'Forme terrestre', 'taxonomy_id': 2, 'code': 'FORM', 'name_en': 'Glacial landform', 'children': [{'id': 274, 'name_fr': 'Esker', 'taxonomy_id': 2, 'code': 'ESKR', 'name_en': 'Esker', 'children': []}, {'id': 275, 'name_fr': 'Moraine', 'taxonomy_id': 2, 'code': 'MORI', 'name_en': 'Moraine', 'children': []}, {'id': 276, 'name_fr': 'Pingo', 'taxonomy_id': 2, 'code': 'PINO', 'name_en': 'Pingo', 'children': []}, {'id': 277, 'name_fr': 'Drumlin', 'taxonomy_id': 2, 'code': 'DRUL', 'name_en': 'Drumlin', 'children': []}]}]}]\n"
          ],
          "name": "stdout"
        }
      ]
    },
    {
      "cell_type": "markdown",
      "metadata": {
        "id": "WutvZHkn6p-G",
        "colab_type": "text"
      },
      "source": [
        "Define a class mapping between your class names and the taxonomy ids, add 999 for the background class"
      ]
    },
    {
      "cell_type": "code",
      "metadata": {
        "id": "qdWKFOm66ghC",
        "colab_type": "code",
        "colab": {}
      },
      "source": [
        "class_mapping = [('Background', '999'), ('AgriculturalLand', '223'), ('BarrenLand', '252'), ('ForestLand', '233'), ('RangeLand', '229'), ('UrbanLand', '201'), ('Water', '239')]"
      ],
      "execution_count": 8,
      "outputs": []
    },
    {
      "cell_type": "markdown",
      "metadata": {
        "id": "0pbB1uiQ7PyJ",
        "colab_type": "text"
      },
      "source": [
        "#### Model Configuration"
      ]
    },
    {
      "cell_type": "markdown",
      "metadata": {
        "id": "L6JjzFCpwpap",
        "colab_type": "text"
      },
      "source": [
        "Define the task as a Segmentation task:"
      ]
    },
    {
      "cell_type": "code",
      "metadata": {
        "id": "_9WYIhzFg7tH",
        "colab_type": "code",
        "colab": {
          "base_uri": "https://localhost:8080/",
          "height": 54
        },
        "outputId": "1e730d90-a2d4-42be-8c6f-effc4f31cd64"
      },
      "source": [
        "task_config = {\n",
        "    \"type\": \"thelper.tasks.Segmentation\",\n",
        "    \"params\": {\n",
        "        \"class_names\": list(dict(class_mapping).keys()),\n",
        "        \"input_key\": \"image\",\n",
        "        'dontcare' : 255,\n",
        "        \"label_map_key\": \"label\"\n",
        "    }\n",
        "}\n",
        "print(task_config)"
      ],
      "execution_count": 9,
      "outputs": [
        {
          "output_type": "stream",
          "text": [
            "{'type': 'thelper.tasks.Segmentation', 'params': {'class_names': ['Background', 'AgriculturalLand', 'BarrenLand', 'ForestLand', 'RangeLand', 'UrbanLand', 'Water'], 'input_key': 'image', 'dontcare': 255, 'label_map_key': 'label'}}\n"
          ],
          "name": "stdout"
        }
      ]
    },
    {
      "cell_type": "markdown",
      "metadata": {
        "id": "dWI1SiAgsdcx",
        "colab_type": "text"
      },
      "source": [
        "We need to modify the task to include your class mapping"
      ]
    },
    {
      "cell_type": "code",
      "metadata": {
        "id": "jfgpxeuWBMxM",
        "colab_type": "code",
        "colab": {
          "base_uri": "https://localhost:8080/",
          "height": 54
        },
        "outputId": "b8e9cab8-6481-4dd3-f0a2-f8411119a53d"
      },
      "source": [
        "from ginmodelrepo.util import update_class_mapping\n",
        "task = update_class_mapping(class_mapping, task_config)\n",
        "print(task)"
      ],
      "execution_count": 10,
      "outputs": [
        {
          "output_type": "stream",
          "text": [
            "thelper.tasks.segm.Segmentation(class_names={999: 0, 223: 1, 252: 2, 233: 3, 229: 4, 201: 5, 239: 6}, input_key='image', label_map_key='label', meta_keys=[], dontcare=255, color_map={})\n"
          ],
          "name": "stdout"
        }
      ]
    },
    {
      "cell_type": "markdown",
      "metadata": {
        "id": "oVsdiS8LhSLJ",
        "colab_type": "text"
      },
      "source": [
        "Define the data loader, you'll need to specify the bands you are using (starting with channel no 1):\n",
        "\n"
      ]
    },
    {
      "cell_type": "code",
      "metadata": {
        "id": "r9IPcxjOhf8I",
        "colab_type": "code",
        "colab": {}
      },
      "source": [
        "channels = [1,2,3]\n",
        "datasets_config = {\n",
        "    \"deepglobe_test\": {\n",
        "        \"type\": \"thelper.data.geo.parsers.ImageFolderGDataset\",\n",
        "        \"params\": {\"root\": \"/content/\",\n",
        "                    \"image_key\": \"image\",\n",
        "                    \"channels\": channels\n",
        "\n",
        "                    },\n",
        "        \"task\": task\n",
        "    }\n",
        "}"
      ],
      "execution_count": 11,
      "outputs": []
    },
    {
      "cell_type": "markdown",
      "metadata": {
        "id": "a91XnZOzxLEe",
        "colab_type": "text"
      },
      "source": [
        "Define the pre-processing pipeline as following:"
      ]
    },
    {
      "cell_type": "code",
      "metadata": {
        "id": "56Al_eLuhpT_",
        "colab_type": "code",
        "colab": {}
      },
      "source": [
        "loaders_config = {\n",
        "\n",
        "    \"base_transforms\": [\n",
        "        # this is necessary because the training used PIL which output images in a BGR order\n",
        "        {\n",
        "            \"operation\": \"thelper.transforms.ToNumpy\",\n",
        "            \"params\": {\"reorder_bgr\": False},\n",
        "        },\n",
        "        {\n",
        "            \"operation\": \"thelper.transforms.CenterCrop\",\n",
        "            \"params\": {\"size\": 128},\n",
        "        },\n",
        "        {\n",
        "            \"operation\": \"thelper.transforms.NormalizeMinMax\",\n",
        "            \"params\": {\"min\": 0.0, \"max\": 255.0},\n",
        "        },\n",
        "        {\n",
        "            \"operation\": \"thelper.transforms.NormalizeZeroMeanUnitVar\",\n",
        "            \"params\": {\n",
        "                \"mean\": [0.485, 0.456, 0.406],\n",
        "                \"std\": [0.229, 0.224, 0.225]\n",
        "            },\n",
        "        },\n",
        "        {\n",
        "            \"operation\": \"thelper.transforms.Transpose\",\n",
        "            \"params\": {\n",
        "                \"axes\": [2,0,1]\n",
        "            },\n",
        "        },\n",
        "    ],\n",
        "\n",
        "}"
      ],
      "execution_count": 12,
      "outputs": []
    },
    {
      "cell_type": "markdown",
      "metadata": {
        "id": "57OnbJ6n-gdp",
        "colab_type": "text"
      },
      "source": [
        "Define the model configuration:\n",
        "* type: your model specific class\n",
        "* params: the parameters needed by that class\n",
        "* state_dict: points to the model parameters\n",
        "\n"
      ]
    },
    {
      "cell_type": "code",
      "metadata": {
        "id": "VcpQbbO0h4rJ",
        "colab_type": "code",
        "colab": {}
      },
      "source": [
        "model_config = {\n",
        "    \"type\": ginmodelrepo.EncoderDecoderNet,\n",
        "    \"params\": {\"num_classes\": 7, \"enc_type\": 'resnet18', \"dec_type\": 'unet_scse', \"num_filters\": 16,\n",
        "                \"pretrained\": True},\n",
        "    'state_dict': '/content/model.pth',\n",
        "    \"task\": task\n",
        "\n",
        "}"
      ],
      "execution_count": 13,
      "outputs": []
    },
    {
      "cell_type": "markdown",
      "metadata": {
        "id": "wSrlUEpBzC31",
        "colab_type": "text"
      },
      "source": [
        "### Export the model"
      ]
    },
    {
      "cell_type": "markdown",
      "metadata": {
        "id": "S_eZzFVOwnqA",
        "colab_type": "text"
      },
      "source": [
        "Define the thelper export parameters, make sure the trace_input corresponds to the input layer"
      ]
    },
    {
      "cell_type": "code",
      "metadata": {
        "id": "81sbRSyydk_O",
        "colab_type": "code",
        "colab": {}
      },
      "source": [
        "export_config = {\n",
        "    \"ckpt_name\": model_name + \".pth\",\n",
        "    \"trace_name\": model_name + \".zip\",\n",
        "    \"save_raw\": True,\n",
        "    \"trace_input\": \"torch.rand(1, 3, 128, 128)\",\n",
        "    \"task\": task\n",
        "}"
      ],
      "execution_count": 14,
      "outputs": []
    },
    {
      "cell_type": "markdown",
      "metadata": {
        "id": "nBI9X5L6yHmn",
        "colab_type": "text"
      },
      "source": [
        "Launch the export"
      ]
    },
    {
      "cell_type": "code",
      "metadata": {
        "id": "0tary99Be0_p",
        "colab_type": "code",
        "colab": {
          "base_uri": "https://localhost:8080/",
          "height": 1000,
          "referenced_widgets": [
            "38affc7bdd084f94b93231ebd376d84e",
            "6214e4c254a34f18b4bb2f088d140c62",
            "04abe6b3349d4304988d31c44ddb3485",
            "ddeb01bec96c439c9897e0fa222be70b",
            "6d0cc5807e1a4a9e919069f3696e8f10",
            "504b11d26d9b45caaf7c305d4a8b7588",
            "de112aec4ae54ca194aae6c81b2e8cae",
            "8cc9ce6eac6b4395a638d4765ae6b186"
          ]
        },
        "outputId": "67ec4878-f620-4bda-900b-c0ebbe6ea6ba"
      },
      "source": [
        "# config = {\"name\": model_name, \"model\": model_config, \"datasets\": datasets_config, \"loaders\": loaders_config, \"export\": export_config}\n",
        "config = {\"name\": model_name, \"model\": model_config, \"datasets\": datasets_config, \"loaders\": loaders_config,  \"trainer\": {}}\n",
        "thelper.utils.bypass_queries = True     # avoid blocking ui query\n",
        "thelper.cli.export_model(config, '/content/thelper-export')"
      ],
      "execution_count": 15,
      "outputs": [
        {
          "output_type": "stream",
          "text": [
            "[2020-09-07 14:33:33,520 - thelper.cli.export_model] INFO : exporting model 'deepglobe-unet'...\n",
            "[2020-09-07 14:33:33,522 - thelper.utils.get_save_dir] INFO : output root directory = /content/thelper-export\n",
            "[2020-09-07 14:33:33,774 - thelper.utils.get_save_dir] INFO : output session directory = /content/thelper-export/deepglobe-unet\n",
            "[2020-09-07 14:33:33,776 - thelper.utils.get_save_dir] INFO : output logs directory = /content/thelper-export/deepglobe-unet/logs\n",
            "[2020-09-07 14:33:33,778 - thelper.cli.export_model] DEBUG : exported checkpoint will be saved at '/content/thelper-export/deepglobe-unet'\n",
            "[2020-09-07 14:33:33,780 - thelper.nn.utils] DEBUG : loading model\n",
            "[2020-09-07 14:33:33,781 - thelper.nn.utils] DEBUG : loading model type/params current config\n",
            "[2020-09-07 14:33:43,964 - thelper.nn.utils] DEBUG : model_type = <class 'ginmodelrepo.net.EncoderDecoderNet'>\n",
            "[2020-09-07 14:33:43,965 - thelper.nn.utils] DEBUG : model_params = {'num_classes': 7, 'enc_type': 'resnet18', 'dec_type': 'unet_scse', 'num_filters': 16, 'pretrained': True}\n",
            "[2020-09-07 14:33:43,966 - thelper.nn.utils] INFO : instantiating external module '<class 'ginmodelrepo.net.EncoderDecoderNet'>'...\n",
            "Downloading: \"https://download.pytorch.org/models/resnet18-5c106cde.pth\" to /root/.cache/torch/hub/checkpoints/resnet18-5c106cde.pth\n"
          ],
          "name": "stderr"
        },
        {
          "output_type": "display_data",
          "data": {
            "application/vnd.jupyter.widget-view+json": {
              "model_id": "38affc7bdd084f94b93231ebd376d84e",
              "version_minor": 0,
              "version_major": 2
            },
            "text/plain": [
              "HBox(children=(FloatProgress(value=0.0, max=46827520.0), HTML(value='')))"
            ]
          },
          "metadata": {
            "tags": []
          }
        },
        {
          "output_type": "stream",
          "text": [
            "\n"
          ],
          "name": "stdout"
        },
        {
          "output_type": "stream",
          "text": [
            "[2020-09-07 14:33:44,744 - thelper.nn.utils] DEBUG : loading state dictionary from checkpoint into model\n",
            "[2020-09-07 14:33:44,799 - thelper.nn.utils] DEBUG : previous model task = thelper.tasks.segm.Segmentation(class_names={999: 0, 223: 1, 252: 2, 233: 3, 229: 4, 201: 5, 239: 6}, input_key='image', label_map_key='label', meta_keys=[], dontcare=255, color_map={})\n",
            "[2020-09-07 14:33:44,800 - thelper.nn.utils] DEBUG : refreshing model for new task = thelper.tasks.segm.Segmentation(class_names={999: 0, 223: 1, 252: 2, 233: 3, 229: 4, 201: 5, 239: 6}, input_key='image', label_map_key='label', meta_keys=[], dontcare=255, color_map={})\n",
            "[2020-09-07 14:33:44,812 - thelper.nn.utils] INFO : module 'ginmodelrepo.net.EncoderDecoderNet' parameter count: 42814003\n",
            "[2020-09-07 14:33:44,813 - thelper.nn.utils] INFO : EncoderDecoderNet(\n",
            "  (encoder1): Sequential(\n",
            "    (0): Conv2d(3, 64, kernel_size=(7, 7), stride=(2, 2), padding=(3, 3), bias=False)\n",
            "    (1): BatchNorm2d(64, eps=1e-05, momentum=0.1, affine=True, track_running_stats=True)\n",
            "    (2): ReLU(inplace=True)\n",
            "    (3): MaxPool2d(kernel_size=3, stride=2, padding=1, dilation=1, ceil_mode=False)\n",
            "  )\n",
            "  (encoder2): Sequential(\n",
            "    (0): BasicBlock(\n",
            "      (conv1): Conv2d(64, 64, kernel_size=(3, 3), stride=(1, 1), padding=(1, 1), bias=False)\n",
            "      (bn1): BatchNorm2d(64, eps=1e-05, momentum=0.1, affine=True, track_running_stats=True)\n",
            "      (relu): ReLU(inplace=True)\n",
            "      (conv2): Conv2d(64, 64, kernel_size=(3, 3), stride=(1, 1), padding=(1, 1), bias=False)\n",
            "      (bn2): BatchNorm2d(64, eps=1e-05, momentum=0.1, affine=True, track_running_stats=True)\n",
            "    )\n",
            "    (1): BasicBlock(\n",
            "      (conv1): Conv2d(64, 64, kernel_size=(3, 3), stride=(1, 1), padding=(1, 1), bias=False)\n",
            "      (bn1): BatchNorm2d(64, eps=1e-05, momentum=0.1, affine=True, track_running_stats=True)\n",
            "      (relu): ReLU(inplace=True)\n",
            "      (conv2): Conv2d(64, 64, kernel_size=(3, 3), stride=(1, 1), padding=(1, 1), bias=False)\n",
            "      (bn2): BatchNorm2d(64, eps=1e-05, momentum=0.1, affine=True, track_running_stats=True)\n",
            "    )\n",
            "  )\n",
            "  (encoder3): Sequential(\n",
            "    (0): BasicBlock(\n",
            "      (conv1): Conv2d(64, 128, kernel_size=(3, 3), stride=(2, 2), padding=(1, 1), bias=False)\n",
            "      (bn1): BatchNorm2d(128, eps=1e-05, momentum=0.1, affine=True, track_running_stats=True)\n",
            "      (relu): ReLU(inplace=True)\n",
            "      (conv2): Conv2d(128, 128, kernel_size=(3, 3), stride=(1, 1), padding=(1, 1), bias=False)\n",
            "      (bn2): BatchNorm2d(128, eps=1e-05, momentum=0.1, affine=True, track_running_stats=True)\n",
            "      (downsample): Sequential(\n",
            "        (0): Conv2d(64, 128, kernel_size=(1, 1), stride=(2, 2), bias=False)\n",
            "        (1): BatchNorm2d(128, eps=1e-05, momentum=0.1, affine=True, track_running_stats=True)\n",
            "      )\n",
            "    )\n",
            "    (1): BasicBlock(\n",
            "      (conv1): Conv2d(128, 128, kernel_size=(3, 3), stride=(1, 1), padding=(1, 1), bias=False)\n",
            "      (bn1): BatchNorm2d(128, eps=1e-05, momentum=0.1, affine=True, track_running_stats=True)\n",
            "      (relu): ReLU(inplace=True)\n",
            "      (conv2): Conv2d(128, 128, kernel_size=(3, 3), stride=(1, 1), padding=(1, 1), bias=False)\n",
            "      (bn2): BatchNorm2d(128, eps=1e-05, momentum=0.1, affine=True, track_running_stats=True)\n",
            "    )\n",
            "  )\n",
            "  (encoder4): Sequential(\n",
            "    (0): BasicBlock(\n",
            "      (conv1): Conv2d(128, 256, kernel_size=(3, 3), stride=(2, 2), padding=(1, 1), bias=False)\n",
            "      (bn1): BatchNorm2d(256, eps=1e-05, momentum=0.1, affine=True, track_running_stats=True)\n",
            "      (relu): ReLU(inplace=True)\n",
            "      (conv2): Conv2d(256, 256, kernel_size=(3, 3), stride=(1, 1), padding=(1, 1), bias=False)\n",
            "      (bn2): BatchNorm2d(256, eps=1e-05, momentum=0.1, affine=True, track_running_stats=True)\n",
            "      (downsample): Sequential(\n",
            "        (0): Conv2d(128, 256, kernel_size=(1, 1), stride=(2, 2), bias=False)\n",
            "        (1): BatchNorm2d(256, eps=1e-05, momentum=0.1, affine=True, track_running_stats=True)\n",
            "      )\n",
            "    )\n",
            "    (1): BasicBlock(\n",
            "      (conv1): Conv2d(256, 256, kernel_size=(3, 3), stride=(1, 1), padding=(1, 1), bias=False)\n",
            "      (bn1): BatchNorm2d(256, eps=1e-05, momentum=0.1, affine=True, track_running_stats=True)\n",
            "      (relu): ReLU(inplace=True)\n",
            "      (conv2): Conv2d(256, 256, kernel_size=(3, 3), stride=(1, 1), padding=(1, 1), bias=False)\n",
            "      (bn2): BatchNorm2d(256, eps=1e-05, momentum=0.1, affine=True, track_running_stats=True)\n",
            "    )\n",
            "  )\n",
            "  (encoder5): Sequential(\n",
            "    (0): BasicBlock(\n",
            "      (conv1): Conv2d(256, 512, kernel_size=(3, 3), stride=(2, 2), padding=(1, 1), bias=False)\n",
            "      (bn1): BatchNorm2d(512, eps=1e-05, momentum=0.1, affine=True, track_running_stats=True)\n",
            "      (relu): ReLU(inplace=True)\n",
            "      (conv2): Conv2d(512, 512, kernel_size=(3, 3), stride=(1, 1), padding=(1, 1), bias=False)\n",
            "      (bn2): BatchNorm2d(512, eps=1e-05, momentum=0.1, affine=True, track_running_stats=True)\n",
            "      (downsample): Sequential(\n",
            "        (0): Conv2d(256, 512, kernel_size=(1, 1), stride=(2, 2), bias=False)\n",
            "        (1): BatchNorm2d(512, eps=1e-05, momentum=0.1, affine=True, track_running_stats=True)\n",
            "      )\n",
            "    )\n",
            "    (1): BasicBlock(\n",
            "      (conv1): Conv2d(512, 512, kernel_size=(3, 3), stride=(1, 1), padding=(1, 1), bias=False)\n",
            "      (bn1): BatchNorm2d(512, eps=1e-05, momentum=0.1, affine=True, track_running_stats=True)\n",
            "      (relu): ReLU(inplace=True)\n",
            "      (conv2): Conv2d(512, 512, kernel_size=(3, 3), stride=(1, 1), padding=(1, 1), bias=False)\n",
            "      (bn2): BatchNorm2d(512, eps=1e-05, momentum=0.1, affine=True, track_running_stats=True)\n",
            "    )\n",
            "  )\n",
            "  (pool): MaxPool2d(kernel_size=2, stride=2, padding=0, dilation=1, ceil_mode=False)\n",
            "  (center): DecoderUnetSCSE(\n",
            "    (block): Sequential(\n",
            "      (0): Conv2d(512, 1024, kernel_size=(3, 3), stride=(1, 1), padding=(1, 1))\n",
            "      (1): _ActivatedBatchNorm(\n",
            "        (bn): BatchNorm2d(1024, eps=1e-05, momentum=0.1, affine=True, track_running_stats=True)\n",
            "        (act): ReLU(inplace=True)\n",
            "      )\n",
            "      (2): SCSEBlock(\n",
            "        (avg_pool): AdaptiveAvgPool2d(output_size=1)\n",
            "        (channel_excitation): Sequential(\n",
            "          (0): Linear(in_features=1024, out_features=64, bias=True)\n",
            "          (1): ReLU(inplace=True)\n",
            "          (2): Linear(in_features=64, out_features=1024, bias=True)\n",
            "        )\n",
            "        (spatial_se): Conv2d(1024, 1, kernel_size=(1, 1), stride=(1, 1), bias=False)\n",
            "      )\n",
            "      (3): ConvTranspose2d(1024, 512, kernel_size=(4, 4), stride=(2, 2), padding=(1, 1))\n",
            "    )\n",
            "  )\n",
            "  (decoder5): DecoderUnetSCSE(\n",
            "    (block): Sequential(\n",
            "      (0): Conv2d(1024, 1024, kernel_size=(3, 3), stride=(1, 1), padding=(1, 1))\n",
            "      (1): _ActivatedBatchNorm(\n",
            "        (bn): BatchNorm2d(1024, eps=1e-05, momentum=0.1, affine=True, track_running_stats=True)\n",
            "        (act): ReLU(inplace=True)\n",
            "      )\n",
            "      (2): SCSEBlock(\n",
            "        (avg_pool): AdaptiveAvgPool2d(output_size=1)\n",
            "        (channel_excitation): Sequential(\n",
            "          (0): Linear(in_features=1024, out_features=64, bias=True)\n",
            "          (1): ReLU(inplace=True)\n",
            "          (2): Linear(in_features=64, out_features=1024, bias=True)\n",
            "        )\n",
            "        (spatial_se): Conv2d(1024, 1, kernel_size=(1, 1), stride=(1, 1), bias=False)\n",
            "      )\n",
            "      (3): ConvTranspose2d(1024, 256, kernel_size=(4, 4), stride=(2, 2), padding=(1, 1))\n",
            "    )\n",
            "  )\n",
            "  (decoder4): DecoderUnetSCSE(\n",
            "    (block): Sequential(\n",
            "      (0): Conv2d(512, 512, kernel_size=(3, 3), stride=(1, 1), padding=(1, 1))\n",
            "      (1): _ActivatedBatchNorm(\n",
            "        (bn): BatchNorm2d(512, eps=1e-05, momentum=0.1, affine=True, track_running_stats=True)\n",
            "        (act): ReLU(inplace=True)\n",
            "      )\n",
            "      (2): SCSEBlock(\n",
            "        (avg_pool): AdaptiveAvgPool2d(output_size=1)\n",
            "        (channel_excitation): Sequential(\n",
            "          (0): Linear(in_features=512, out_features=32, bias=True)\n",
            "          (1): ReLU(inplace=True)\n",
            "          (2): Linear(in_features=32, out_features=512, bias=True)\n",
            "        )\n",
            "        (spatial_se): Conv2d(512, 1, kernel_size=(1, 1), stride=(1, 1), bias=False)\n",
            "      )\n",
            "      (3): ConvTranspose2d(512, 128, kernel_size=(4, 4), stride=(2, 2), padding=(1, 1))\n",
            "    )\n",
            "  )\n",
            "  (decoder3): DecoderUnetSCSE(\n",
            "    (block): Sequential(\n",
            "      (0): Conv2d(256, 256, kernel_size=(3, 3), stride=(1, 1), padding=(1, 1))\n",
            "      (1): _ActivatedBatchNorm(\n",
            "        (bn): BatchNorm2d(256, eps=1e-05, momentum=0.1, affine=True, track_running_stats=True)\n",
            "        (act): ReLU(inplace=True)\n",
            "      )\n",
            "      (2): SCSEBlock(\n",
            "        (avg_pool): AdaptiveAvgPool2d(output_size=1)\n",
            "        (channel_excitation): Sequential(\n",
            "          (0): Linear(in_features=256, out_features=16, bias=True)\n",
            "          (1): ReLU(inplace=True)\n",
            "          (2): Linear(in_features=16, out_features=256, bias=True)\n",
            "        )\n",
            "        (spatial_se): Conv2d(256, 1, kernel_size=(1, 1), stride=(1, 1), bias=False)\n",
            "      )\n",
            "      (3): ConvTranspose2d(256, 64, kernel_size=(4, 4), stride=(2, 2), padding=(1, 1))\n",
            "    )\n",
            "  )\n",
            "  (decoder2): DecoderUnetSCSE(\n",
            "    (block): Sequential(\n",
            "      (0): Conv2d(128, 128, kernel_size=(3, 3), stride=(1, 1), padding=(1, 1))\n",
            "      (1): _ActivatedBatchNorm(\n",
            "        (bn): BatchNorm2d(128, eps=1e-05, momentum=0.1, affine=True, track_running_stats=True)\n",
            "        (act): ReLU(inplace=True)\n",
            "      )\n",
            "      (2): SCSEBlock(\n",
            "        (avg_pool): AdaptiveAvgPool2d(output_size=1)\n",
            "        (channel_excitation): Sequential(\n",
            "          (0): Linear(in_features=128, out_features=8, bias=True)\n",
            "          (1): ReLU(inplace=True)\n",
            "          (2): Linear(in_features=8, out_features=128, bias=True)\n",
            "        )\n",
            "        (spatial_se): Conv2d(128, 1, kernel_size=(1, 1), stride=(1, 1), bias=False)\n",
            "      )\n",
            "      (3): ConvTranspose2d(128, 32, kernel_size=(4, 4), stride=(2, 2), padding=(1, 1))\n",
            "    )\n",
            "  )\n",
            "  (decoder1): DecoderUnetSCSE(\n",
            "    (block): Sequential(\n",
            "      (0): Conv2d(96, 64, kernel_size=(3, 3), stride=(1, 1), padding=(1, 1))\n",
            "      (1): _ActivatedBatchNorm(\n",
            "        (bn): BatchNorm2d(64, eps=1e-05, momentum=0.1, affine=True, track_running_stats=True)\n",
            "        (act): ReLU(inplace=True)\n",
            "      )\n",
            "      (2): SCSEBlock(\n",
            "        (avg_pool): AdaptiveAvgPool2d(output_size=1)\n",
            "        (channel_excitation): Sequential(\n",
            "          (0): Linear(in_features=64, out_features=4, bias=True)\n",
            "          (1): ReLU(inplace=True)\n",
            "          (2): Linear(in_features=4, out_features=64, bias=True)\n",
            "        )\n",
            "        (spatial_se): Conv2d(64, 1, kernel_size=(1, 1), stride=(1, 1), bias=False)\n",
            "      )\n",
            "      (3): ConvTranspose2d(64, 16, kernel_size=(4, 4), stride=(2, 2), padding=(1, 1))\n",
            "    )\n",
            "  )\n",
            "  (logits): Sequential(\n",
            "    (0): Conv2d(496, 64, kernel_size=(1, 1), stride=(1, 1))\n",
            "    (1): _ActivatedBatchNorm(\n",
            "      (bn): BatchNorm2d(64, eps=1e-05, momentum=0.1, affine=True, track_running_stats=True)\n",
            "      (act): ReLU(inplace=True)\n",
            "    )\n",
            "    (2): Conv2d(64, 7, kernel_size=(1, 1), stride=(1, 1))\n",
            "  )\n",
            ")\n",
            "[2020-09-07 14:33:44,820 - thelper.nn.utils] DEBUG : model has 42.8M learnable parameters\n",
            "/content/gin-model-repo/ginmodelrepo/scse.py:43: UserWarning: This overload of add is deprecated:\n",
            "\tadd(Tensor input, Number alpha, Tensor other, *, Tensor out)\n",
            "Consider using one of the following signatures instead:\n",
            "\tadd(Tensor input, Tensor other, *, Number alpha, Tensor out) (Triggered internally at  /pytorch/torch/csrc/utils/python_arg_parser.cpp:766.)\n",
            "  return torch.add(chn_se, 1, spa_se)\n",
            "[2020-09-07 14:33:47,514 - thelper.cli.export_model] DEBUG : all done\n"
          ],
          "name": "stderr"
        }
      ]
    },
    {
      "cell_type": "markdown",
      "metadata": {
        "id": "biRoAr9gy59V",
        "colab_type": "text"
      },
      "source": [
        "We can check that the export can be reloaded"
      ]
    },
    {
      "cell_type": "code",
      "metadata": {
        "id": "ozN2h3gOWMPJ",
        "colab_type": "code",
        "colab": {
          "base_uri": "https://localhost:8080/",
          "height": 34
        },
        "outputId": "f936fb8e-9985-45f7-f9d1-d56255fb005b"
      },
      "source": [
        "from io import BytesIO\n",
        "model_file = '/content/thelper-export/deepglobe-unet/deepglobe-unet.pth'\n",
        "with open(model_file, 'rb') as f:\n",
        "  model_buffer = BytesIO(f.read())\n",
        "\n",
        "model_checkpoint_info = thelper.utils.load_checkpoint(model_buffer)"
      ],
      "execution_count": 16,
      "outputs": [
        {
          "output_type": "stream",
          "text": [
            "[2020-09-07 14:34:02,796 - thelper.utils] DEBUG : testing availability of cuda device #0 (Tesla T4)\n"
          ],
          "name": "stderr"
        }
      ]
    },
    {
      "cell_type": "markdown",
      "metadata": {
        "id": "8xD5U-ZtwIDR",
        "colab_type": "text"
      },
      "source": [
        "Testing the TorchScript version of your model"
      ]
    },
    {
      "cell_type": "code",
      "metadata": {
        "id": "hKKLCt2znc3t",
        "colab_type": "code",
        "colab": {
          "base_uri": "https://localhost:8080/",
          "height": 1000
        },
        "outputId": "4b03146c-84cf-402c-e54d-655eb2c17897"
      },
      "source": [
        "model = torch.jit.load('/content/thelper-export/deepglobe-unet/deepglobe-unet.zip')\n",
        "model.eval()\n",
        "print(model)\n",
        "# print example output (should be same as during save)\n",
        "x = torch.ones(1, 3, 128, 128)\n",
        "print(model(x))"
      ],
      "execution_count": 5,
      "outputs": [
        {
          "output_type": "stream",
          "text": [
            "RecursiveScriptModule(\n",
            "  original_name=ExternalModule\n",
            "  (model): RecursiveScriptModule(\n",
            "    original_name=EncoderDecoderNet\n",
            "    (encoder1): RecursiveScriptModule(\n",
            "      original_name=Sequential\n",
            "      (0): RecursiveScriptModule(original_name=Conv2d)\n",
            "      (1): RecursiveScriptModule(original_name=BatchNorm2d)\n",
            "      (2): RecursiveScriptModule(original_name=ReLU)\n",
            "      (3): RecursiveScriptModule(original_name=MaxPool2d)\n",
            "    )\n",
            "    (encoder2): RecursiveScriptModule(\n",
            "      original_name=Sequential\n",
            "      (0): RecursiveScriptModule(\n",
            "        original_name=BasicBlock\n",
            "        (conv1): RecursiveScriptModule(original_name=Conv2d)\n",
            "        (bn1): RecursiveScriptModule(original_name=BatchNorm2d)\n",
            "        (relu): RecursiveScriptModule(original_name=ReLU)\n",
            "        (conv2): RecursiveScriptModule(original_name=Conv2d)\n",
            "        (bn2): RecursiveScriptModule(original_name=BatchNorm2d)\n",
            "      )\n",
            "      (1): RecursiveScriptModule(\n",
            "        original_name=BasicBlock\n",
            "        (conv1): RecursiveScriptModule(original_name=Conv2d)\n",
            "        (bn1): RecursiveScriptModule(original_name=BatchNorm2d)\n",
            "        (relu): RecursiveScriptModule(original_name=ReLU)\n",
            "        (conv2): RecursiveScriptModule(original_name=Conv2d)\n",
            "        (bn2): RecursiveScriptModule(original_name=BatchNorm2d)\n",
            "      )\n",
            "    )\n",
            "    (encoder3): RecursiveScriptModule(\n",
            "      original_name=Sequential\n",
            "      (0): RecursiveScriptModule(\n",
            "        original_name=BasicBlock\n",
            "        (conv1): RecursiveScriptModule(original_name=Conv2d)\n",
            "        (bn1): RecursiveScriptModule(original_name=BatchNorm2d)\n",
            "        (relu): RecursiveScriptModule(original_name=ReLU)\n",
            "        (conv2): RecursiveScriptModule(original_name=Conv2d)\n",
            "        (bn2): RecursiveScriptModule(original_name=BatchNorm2d)\n",
            "        (downsample): RecursiveScriptModule(\n",
            "          original_name=Sequential\n",
            "          (0): RecursiveScriptModule(original_name=Conv2d)\n",
            "          (1): RecursiveScriptModule(original_name=BatchNorm2d)\n",
            "        )\n",
            "      )\n",
            "      (1): RecursiveScriptModule(\n",
            "        original_name=BasicBlock\n",
            "        (conv1): RecursiveScriptModule(original_name=Conv2d)\n",
            "        (bn1): RecursiveScriptModule(original_name=BatchNorm2d)\n",
            "        (relu): RecursiveScriptModule(original_name=ReLU)\n",
            "        (conv2): RecursiveScriptModule(original_name=Conv2d)\n",
            "        (bn2): RecursiveScriptModule(original_name=BatchNorm2d)\n",
            "      )\n",
            "    )\n",
            "    (encoder4): RecursiveScriptModule(\n",
            "      original_name=Sequential\n",
            "      (0): RecursiveScriptModule(\n",
            "        original_name=BasicBlock\n",
            "        (conv1): RecursiveScriptModule(original_name=Conv2d)\n",
            "        (bn1): RecursiveScriptModule(original_name=BatchNorm2d)\n",
            "        (relu): RecursiveScriptModule(original_name=ReLU)\n",
            "        (conv2): RecursiveScriptModule(original_name=Conv2d)\n",
            "        (bn2): RecursiveScriptModule(original_name=BatchNorm2d)\n",
            "        (downsample): RecursiveScriptModule(\n",
            "          original_name=Sequential\n",
            "          (0): RecursiveScriptModule(original_name=Conv2d)\n",
            "          (1): RecursiveScriptModule(original_name=BatchNorm2d)\n",
            "        )\n",
            "      )\n",
            "      (1): RecursiveScriptModule(\n",
            "        original_name=BasicBlock\n",
            "        (conv1): RecursiveScriptModule(original_name=Conv2d)\n",
            "        (bn1): RecursiveScriptModule(original_name=BatchNorm2d)\n",
            "        (relu): RecursiveScriptModule(original_name=ReLU)\n",
            "        (conv2): RecursiveScriptModule(original_name=Conv2d)\n",
            "        (bn2): RecursiveScriptModule(original_name=BatchNorm2d)\n",
            "      )\n",
            "    )\n",
            "    (encoder5): RecursiveScriptModule(\n",
            "      original_name=Sequential\n",
            "      (0): RecursiveScriptModule(\n",
            "        original_name=BasicBlock\n",
            "        (conv1): RecursiveScriptModule(original_name=Conv2d)\n",
            "        (bn1): RecursiveScriptModule(original_name=BatchNorm2d)\n",
            "        (relu): RecursiveScriptModule(original_name=ReLU)\n",
            "        (conv2): RecursiveScriptModule(original_name=Conv2d)\n",
            "        (bn2): RecursiveScriptModule(original_name=BatchNorm2d)\n",
            "        (downsample): RecursiveScriptModule(\n",
            "          original_name=Sequential\n",
            "          (0): RecursiveScriptModule(original_name=Conv2d)\n",
            "          (1): RecursiveScriptModule(original_name=BatchNorm2d)\n",
            "        )\n",
            "      )\n",
            "      (1): RecursiveScriptModule(\n",
            "        original_name=BasicBlock\n",
            "        (conv1): RecursiveScriptModule(original_name=Conv2d)\n",
            "        (bn1): RecursiveScriptModule(original_name=BatchNorm2d)\n",
            "        (relu): RecursiveScriptModule(original_name=ReLU)\n",
            "        (conv2): RecursiveScriptModule(original_name=Conv2d)\n",
            "        (bn2): RecursiveScriptModule(original_name=BatchNorm2d)\n",
            "      )\n",
            "    )\n",
            "    (pool): RecursiveScriptModule(original_name=MaxPool2d)\n",
            "    (center): RecursiveScriptModule(\n",
            "      original_name=DecoderUnetSCSE\n",
            "      (block): RecursiveScriptModule(\n",
            "        original_name=Sequential\n",
            "        (0): RecursiveScriptModule(original_name=Conv2d)\n",
            "        (1): RecursiveScriptModule(\n",
            "          original_name=_ActivatedBatchNorm\n",
            "          (bn): RecursiveScriptModule(original_name=BatchNorm2d)\n",
            "          (act): RecursiveScriptModule(original_name=ReLU)\n",
            "        )\n",
            "        (2): RecursiveScriptModule(\n",
            "          original_name=SCSEBlock\n",
            "          (avg_pool): RecursiveScriptModule(original_name=AdaptiveAvgPool2d)\n",
            "          (channel_excitation): RecursiveScriptModule(\n",
            "            original_name=Sequential\n",
            "            (0): RecursiveScriptModule(original_name=Linear)\n",
            "            (1): RecursiveScriptModule(original_name=ReLU)\n",
            "            (2): RecursiveScriptModule(original_name=Linear)\n",
            "          )\n",
            "          (spatial_se): RecursiveScriptModule(original_name=Conv2d)\n",
            "        )\n",
            "        (3): RecursiveScriptModule(original_name=ConvTranspose2d)\n",
            "      )\n",
            "    )\n",
            "    (decoder5): RecursiveScriptModule(\n",
            "      original_name=DecoderUnetSCSE\n",
            "      (block): RecursiveScriptModule(\n",
            "        original_name=Sequential\n",
            "        (0): RecursiveScriptModule(original_name=Conv2d)\n",
            "        (1): RecursiveScriptModule(\n",
            "          original_name=_ActivatedBatchNorm\n",
            "          (bn): RecursiveScriptModule(original_name=BatchNorm2d)\n",
            "          (act): RecursiveScriptModule(original_name=ReLU)\n",
            "        )\n",
            "        (2): RecursiveScriptModule(\n",
            "          original_name=SCSEBlock\n",
            "          (avg_pool): RecursiveScriptModule(original_name=AdaptiveAvgPool2d)\n",
            "          (channel_excitation): RecursiveScriptModule(\n",
            "            original_name=Sequential\n",
            "            (0): RecursiveScriptModule(original_name=Linear)\n",
            "            (1): RecursiveScriptModule(original_name=ReLU)\n",
            "            (2): RecursiveScriptModule(original_name=Linear)\n",
            "          )\n",
            "          (spatial_se): RecursiveScriptModule(original_name=Conv2d)\n",
            "        )\n",
            "        (3): RecursiveScriptModule(original_name=ConvTranspose2d)\n",
            "      )\n",
            "    )\n",
            "    (decoder4): RecursiveScriptModule(\n",
            "      original_name=DecoderUnetSCSE\n",
            "      (block): RecursiveScriptModule(\n",
            "        original_name=Sequential\n",
            "        (0): RecursiveScriptModule(original_name=Conv2d)\n",
            "        (1): RecursiveScriptModule(\n",
            "          original_name=_ActivatedBatchNorm\n",
            "          (bn): RecursiveScriptModule(original_name=BatchNorm2d)\n",
            "          (act): RecursiveScriptModule(original_name=ReLU)\n",
            "        )\n",
            "        (2): RecursiveScriptModule(\n",
            "          original_name=SCSEBlock\n",
            "          (avg_pool): RecursiveScriptModule(original_name=AdaptiveAvgPool2d)\n",
            "          (channel_excitation): RecursiveScriptModule(\n",
            "            original_name=Sequential\n",
            "            (0): RecursiveScriptModule(original_name=Linear)\n",
            "            (1): RecursiveScriptModule(original_name=ReLU)\n",
            "            (2): RecursiveScriptModule(original_name=Linear)\n",
            "          )\n",
            "          (spatial_se): RecursiveScriptModule(original_name=Conv2d)\n",
            "        )\n",
            "        (3): RecursiveScriptModule(original_name=ConvTranspose2d)\n",
            "      )\n",
            "    )\n",
            "    (decoder3): RecursiveScriptModule(\n",
            "      original_name=DecoderUnetSCSE\n",
            "      (block): RecursiveScriptModule(\n",
            "        original_name=Sequential\n",
            "        (0): RecursiveScriptModule(original_name=Conv2d)\n",
            "        (1): RecursiveScriptModule(\n",
            "          original_name=_ActivatedBatchNorm\n",
            "          (bn): RecursiveScriptModule(original_name=BatchNorm2d)\n",
            "          (act): RecursiveScriptModule(original_name=ReLU)\n",
            "        )\n",
            "        (2): RecursiveScriptModule(\n",
            "          original_name=SCSEBlock\n",
            "          (avg_pool): RecursiveScriptModule(original_name=AdaptiveAvgPool2d)\n",
            "          (channel_excitation): RecursiveScriptModule(\n",
            "            original_name=Sequential\n",
            "            (0): RecursiveScriptModule(original_name=Linear)\n",
            "            (1): RecursiveScriptModule(original_name=ReLU)\n",
            "            (2): RecursiveScriptModule(original_name=Linear)\n",
            "          )\n",
            "          (spatial_se): RecursiveScriptModule(original_name=Conv2d)\n",
            "        )\n",
            "        (3): RecursiveScriptModule(original_name=ConvTranspose2d)\n",
            "      )\n",
            "    )\n",
            "    (decoder2): RecursiveScriptModule(\n",
            "      original_name=DecoderUnetSCSE\n",
            "      (block): RecursiveScriptModule(\n",
            "        original_name=Sequential\n",
            "        (0): RecursiveScriptModule(original_name=Conv2d)\n",
            "        (1): RecursiveScriptModule(\n",
            "          original_name=_ActivatedBatchNorm\n",
            "          (bn): RecursiveScriptModule(original_name=BatchNorm2d)\n",
            "          (act): RecursiveScriptModule(original_name=ReLU)\n",
            "        )\n",
            "        (2): RecursiveScriptModule(\n",
            "          original_name=SCSEBlock\n",
            "          (avg_pool): RecursiveScriptModule(original_name=AdaptiveAvgPool2d)\n",
            "          (channel_excitation): RecursiveScriptModule(\n",
            "            original_name=Sequential\n",
            "            (0): RecursiveScriptModule(original_name=Linear)\n",
            "            (1): RecursiveScriptModule(original_name=ReLU)\n",
            "            (2): RecursiveScriptModule(original_name=Linear)\n",
            "          )\n",
            "          (spatial_se): RecursiveScriptModule(original_name=Conv2d)\n",
            "        )\n",
            "        (3): RecursiveScriptModule(original_name=ConvTranspose2d)\n",
            "      )\n",
            "    )\n",
            "    (decoder1): RecursiveScriptModule(\n",
            "      original_name=DecoderUnetSCSE\n",
            "      (block): RecursiveScriptModule(\n",
            "        original_name=Sequential\n",
            "        (0): RecursiveScriptModule(original_name=Conv2d)\n",
            "        (1): RecursiveScriptModule(\n",
            "          original_name=_ActivatedBatchNorm\n",
            "          (bn): RecursiveScriptModule(original_name=BatchNorm2d)\n",
            "          (act): RecursiveScriptModule(original_name=ReLU)\n",
            "        )\n",
            "        (2): RecursiveScriptModule(\n",
            "          original_name=SCSEBlock\n",
            "          (avg_pool): RecursiveScriptModule(original_name=AdaptiveAvgPool2d)\n",
            "          (channel_excitation): RecursiveScriptModule(\n",
            "            original_name=Sequential\n",
            "            (0): RecursiveScriptModule(original_name=Linear)\n",
            "            (1): RecursiveScriptModule(original_name=ReLU)\n",
            "            (2): RecursiveScriptModule(original_name=Linear)\n",
            "          )\n",
            "          (spatial_se): RecursiveScriptModule(original_name=Conv2d)\n",
            "        )\n",
            "        (3): RecursiveScriptModule(original_name=ConvTranspose2d)\n",
            "      )\n",
            "    )\n",
            "    (logits): RecursiveScriptModule(\n",
            "      original_name=Sequential\n",
            "      (0): RecursiveScriptModule(original_name=Conv2d)\n",
            "      (1): RecursiveScriptModule(\n",
            "        original_name=_ActivatedBatchNorm\n",
            "        (bn): RecursiveScriptModule(original_name=BatchNorm2d)\n",
            "        (act): RecursiveScriptModule(original_name=ReLU)\n",
            "      )\n",
            "      (2): RecursiveScriptModule(original_name=Conv2d)\n",
            "    )\n",
            "  )\n",
            ")\n",
            "tensor([[[[  1.8130,   1.3891,   1.3449,  ...,   1.8013,   1.8268,   1.9655],\n",
            "          [  1.2232,  -0.6548,  -0.6644,  ...,  -0.0243,   0.0761,   1.6437],\n",
            "          [  1.1352,  -0.7948,  -0.8738,  ...,  -0.2330,  -0.0956,   1.5946],\n",
            "          ...,\n",
            "          [  0.8141,  -2.9909,  -3.0217,  ...,   0.7303,   0.7738,   2.7436],\n",
            "          [  0.7712,  -2.9822,  -3.0084,  ...,   0.7210,   0.8467,   2.7365],\n",
            "          [  2.0551,   0.6212,   0.6304,  ...,   2.6327,   2.6652,   2.9995]],\n",
            "\n",
            "         [[  1.0878,   3.6980,   3.9972,  ...,   3.4667,   3.5175,   0.8683],\n",
            "          [  4.3170,  10.3811,  10.4841,  ...,  10.6794,  10.4797,   4.0385],\n",
            "          [  4.7077,  10.7970,  11.1098,  ...,  11.2769,  10.9519,   4.4834],\n",
            "          ...,\n",
            "          [  8.2397,  19.3031,  19.5056,  ...,   8.8106,   8.5528,   1.2976],\n",
            "          [  8.3037,  19.2932,  19.3976,  ...,   8.7162,   8.3681,   1.3687],\n",
            "          [  3.1512,   8.8076,   8.9558,  ...,   2.0547,   1.9178,  -1.4361]],\n",
            "\n",
            "         [[ -2.6148,  -3.7817,  -3.9482,  ...,  -5.5487,  -5.5565,  -4.6345],\n",
            "          [ -4.1870,  -7.8484,  -7.7516,  ...,  -9.4645,  -9.2589,  -6.0177],\n",
            "          [ -4.3673,  -7.9281,  -8.0890,  ...,  -9.7051,  -9.5246,  -6.0945],\n",
            "          ...,\n",
            "          [ -7.7481, -13.8810, -13.9015,  ...,  -8.2360,  -8.0896,  -4.7557],\n",
            "          [ -7.8574, -13.7159, -13.8899,  ...,  -8.0616,  -7.9770,  -4.7367],\n",
            "          [ -5.4151,  -8.0489,  -8.0633,  ...,  -5.1042,  -5.0434,  -3.6044]],\n",
            "\n",
            "         ...,\n",
            "\n",
            "         [[ -5.0978,  -5.5303,  -5.5900,  ...,  -6.2501,  -6.2514,  -5.6943],\n",
            "          [ -5.7463,  -8.7743,  -8.6908,  ...,  -9.5954,  -9.4277,  -6.5823],\n",
            "          [ -5.8312,  -8.8534,  -9.0163,  ...,  -9.8346,  -9.6873,  -6.6394],\n",
            "          ...,\n",
            "          [ -8.4206, -14.1525, -14.2123,  ..., -10.2646, -10.2156,  -6.8477],\n",
            "          [ -8.4920, -14.0083, -14.1757,  ..., -10.1938, -10.0656,  -6.8911],\n",
            "          [ -6.7929,  -8.6555,  -8.6848,  ...,  -7.1491,  -7.1484,  -6.0601]],\n",
            "\n",
            "         [[ -3.2035,  -3.6748,  -3.7545,  ...,  -3.1800,  -3.2120,  -2.2152],\n",
            "          [ -3.7671,  -6.1209,  -6.2710,  ...,  -6.5980,  -6.5309,  -3.2563],\n",
            "          [ -3.9203,  -6.4080,  -6.6688,  ...,  -6.9516,  -6.8206,  -3.5084],\n",
            "          ...,\n",
            "          [ -4.9542, -11.3853, -11.5204,  ...,  -8.7834,  -8.7007,  -3.2258],\n",
            "          [ -4.9195, -11.4118, -11.4274,  ...,  -8.8473,  -8.5658,  -3.3656],\n",
            "          [ -2.2155,  -5.3260,  -5.4234,  ...,  -3.7910,  -3.7464,  -1.6937]],\n",
            "\n",
            "         [[ -0.4451,  -2.4424,  -2.7093,  ...,  -3.3213,  -3.4402,  -1.1358],\n",
            "          [ -2.9338,  -7.8228,  -7.8266,  ...,  -9.1825,  -9.0416,  -3.8506],\n",
            "          [ -3.2639,  -8.1207,  -8.3772,  ...,  -9.7016,  -9.5085,  -4.2220],\n",
            "          ...,\n",
            "          [ -7.9546, -16.8868, -17.1197,  ..., -13.6742, -13.6460,  -7.4455],\n",
            "          [ -8.0398, -16.8280, -17.0299,  ..., -13.6620, -13.4177,  -7.5815],\n",
            "          [ -4.1801,  -8.3109,  -8.5187,  ...,  -8.1072,  -8.1174,  -5.3742]]]],\n",
            "       grad_fn=<MkldnnConvolutionBackward>)\n"
          ],
          "name": "stdout"
        }
      ]
    },
    {
      "cell_type": "markdown",
      "metadata": {
        "id": "u_SabsWuTLLr",
        "colab_type": "text"
      },
      "source": [
        "### Push your Model using GIN API"
      ]
    },
    {
      "cell_type": "code",
      "metadata": {
        "id": "ZgYHYUU4TURN",
        "colab_type": "code",
        "colab": {}
      },
      "source": [
        "To be finished..."
      ],
      "execution_count": null,
      "outputs": []
    },
    {
      "cell_type": "code",
      "metadata": {
        "id": "_tgfzijd8BNj",
        "colab_type": "code",
        "colab": {}
      },
      "source": [
        "model_path = '/content/thelper-export/deepglobe-unet/deepglobe-unet.pth'"
      ],
      "execution_count": 17,
      "outputs": []
    },
    {
      "cell_type": "code",
      "metadata": {
        "id": "usOUMfo-7ubW",
        "colab_type": "code",
        "colab": {
          "base_uri": "https://localhost:8080/",
          "height": 170
        },
        "outputId": "7af728fd-2788-4043-c5bd-c0978ba269f1"
      },
      "source": [
        "!curl -X POST \"https://geoimagenet.ca/ml/models\" -H \"accept: application/json\" -H \"Content-Type: application/json\" -d \"{ \\\"model_name\\\": \\\"{model_name}\\\", \\\"model_path\\\": \\\"{model_path}\\\"}\""
      ],
      "execution_count": 18,
      "outputs": [
        {
          "output_type": "stream",
          "text": [
            "<?xml version=\"1.0\" encoding=\"utf-8\"?>\n",
            "<ExceptionReport version=\"1.0.0\"\n",
            "    xmlns=\"http://www.opengis.net/ows/1.1\"\n",
            "    xmlns:xsi=\"http://www.w3.org/2001/XMLSchema-instance\"\n",
            "    xsi:schemaLocation=\"http://www.opengis.net/ows/1.1 http://schemas.opengis.net/ows/1.1.0/owsExceptionReport.xsd\">\n",
            "    <Exception exceptionCode=\"NoApplicableCode\" locator=\"AccessForbidden\">\n",
            "        <ExceptionText>Not authorized to access this resource. User does not meet required permissions.</ExceptionText>\n",
            "    </Exception>\n",
            "</ExceptionReport>"
          ],
          "name": "stdout"
        }
      ]
    }
  ]
}
