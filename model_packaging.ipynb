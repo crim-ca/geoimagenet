{
  "nbformat": 4,
  "nbformat_minor": 0,
  "metadata": {
    "colab": {
      "name": "model_packaging.ipynb",
      "provenance": [],
      "authorship_tag": "ABX9TyOQb2EKuhugZ8loE9a/ij0n",
      "include_colab_link": true
    },
    "kernelspec": {
      "name": "python3",
      "display_name": "Python 3"
    },
    "accelerator": "GPU"
  },
  "cells": [
    {
      "cell_type": "markdown",
      "metadata": {
        "id": "view-in-github",
        "colab_type": "text"
      },
      "source": [
        "<a href=\"https://colab.research.google.com/github/crim-ca/geoimagenet/blob/master/model_packaging.ipynb\" target=\"_parent\"><img src=\"https://colab.research.google.com/assets/colab-badge.svg\" alt=\"Open In Colab\"/></a>"
      ]
    },
    {
      "cell_type": "markdown",
      "metadata": {
        "id": "fmTElCSfdn-W",
        "colab_type": "text"
      },
      "source": [
        "This notebook explains how to package your model using the thelper library."
      ]
    },
    {
      "cell_type": "code",
      "metadata": {
        "id": "ZTCbXAh_dNhe",
        "colab_type": "code",
        "colab": {
          "base_uri": "https://localhost:8080/",
          "height": 51
        },
        "outputId": "a8418914-dcb1-4b64-859e-224c9f8d319e"
      },
      "source": [
        "%%bash\n",
        "pip3 --quiet install  torch torchvision pillow gitpython lz4 matplotlib numpy pyyaml scikit-learn six tqdm h5py opencv-python googledrivedownloader pretrainedmodels albumentations pyyaml\n",
        "pip3 --quiet install affine geojson shapely pyproj hdf5plugin\n",
        "pip uninstall thelper\n",
        "rm -rf ./thelper\n",
        "git clone https://github.com/sfoucher/thelper\n",
        "pip3 install --quiet -e ./thelper"
      ],
      "execution_count": 1,
      "outputs": [
        {
          "output_type": "stream",
          "text": [
            "WARNING: Skipping thelper as it is not installed.\n",
            "Cloning into 'thelper'...\n"
          ],
          "name": "stderr"
        }
      ]
    },
    {
      "cell_type": "markdown",
      "metadata": {
        "id": "qNj5WKX4glBd",
        "colab_type": "text"
      },
      "source": [
        "The first time you are installing thelper, you'll need to restart the current session"
      ]
    },
    {
      "cell_type": "code",
      "metadata": {
        "id": "ncPe5mi4ggko",
        "colab_type": "code",
        "colab": {}
      },
      "source": [
        "import os\n",
        "os.kill(os.getpid(), 9)"
      ],
      "execution_count": null,
      "outputs": []
    },
    {
      "cell_type": "markdown",
      "metadata": {
        "id": "ECU9faIyivUN",
        "colab_type": "text"
      },
      "source": [
        "This function  "
      ]
    },
    {
      "cell_type": "code",
      "metadata": {
        "id": "PvW-hFePioLQ",
        "colab_type": "code",
        "colab": {}
      },
      "source": [
        "from google_drive_downloader import GoogleDriveDownloader as gdd\n",
        "import os.path as osp\n",
        "import sys\n",
        "\n",
        "\n",
        "def maybe_download_and_extract(file_id, dest_path):\n",
        "    filename = dest_path.split('/')[-1]\n",
        "    file_path = dest_path\n",
        "    download_dir= osp.dirname(osp.abspath(dest_path))\n",
        "    if not os.path.isfile(dest_path):\n",
        "      gdd.download_file_from_google_drive(file_id= file_id, dest_path= file_path)\n",
        "      print(\"Download finished. Extracting files.\")\n",
        "\n",
        "      if file_path.endswith(\".zip\"):\n",
        "          # Unpack the zip-file.\n",
        "          zipfile.ZipFile(file=file_path, mode=\"r\").extractall(download_dir)\n",
        "      elif file_path.endswith((\".tar.gz\", \".tgz\")):\n",
        "          # Unpack the tar-ball.\n",
        "          tarfile.open(name=file_path, mode=\"r:gz\").extractall(download_dir)\n",
        "      print(\"Done.\")\n",
        "    else:\n",
        "        print(\"Data has apparently already been downloaded and unpacked.\")"
      ],
      "execution_count": 2,
      "outputs": []
    },
    {
      "cell_type": "code",
      "metadata": {
        "id": "dQGmKjyifhmw",
        "colab_type": "code",
        "colab": {}
      },
      "source": [
        "import os\n",
        "import torch\n",
        "import torchvision\n",
        "import thelper\n",
        "# initialisation des logs (pour TOUT imprimer ce qui se passe)\n",
        "thelper.utils.init_logger()"
      ],
      "execution_count": 1,
      "outputs": []
    },
    {
      "cell_type": "code",
      "metadata": {
        "id": "_9WYIhzFg7tH",
        "colab_type": "code",
        "colab": {}
      },
      "source": [
        "class_names = [\"AgriculturalLand\", \"BarrenLand\", \"ForestLand\", \"RangeLand\", \"UrbanLand\", \"Water\"]\n",
        "save_dir = 'sessions'\n",
        "task_config = {\n",
        "    \"type\": \"thelper.tasks.Classification\",\n",
        "    \"params\": {\n",
        "        \"class_names\": class_names,\n",
        "        \"input_key\": \"data\",\n",
        "        \"label_key\": \"label\"\n",
        "    }\n",
        "}"
      ],
      "execution_count": null,
      "outputs": []
    },
    {
      "cell_type": "markdown",
      "metadata": {
        "id": "oVsdiS8LhSLJ",
        "colab_type": "text"
      },
      "source": [
        "Define the data loader:\n",
        "*   List item\n",
        "*   List item\n",
        "\n"
      ]
    },
    {
      "cell_type": "code",
      "metadata": {
        "id": "r9IPcxjOhf8I",
        "colab_type": "code",
        "colab": {}
      },
      "source": [
        "datasets_config = {\n",
        "    # loader for the test data\n",
        "    \"deepglobe_test\": {\n",
        "        \"type\": \"thelper.data.geo.ImageFolderGDataset\",\n",
        "        \"params\": {\"root\": \"/home/sfoucher/DEV/geoimagenet/dataset_test/deepglobe_classif\",\n",
        "                    \"image_key\": \"image\",\n",
        "                    \"channels\": [1,2,3]\n",
        "\n",
        "                    },\n",
        "        \"task\": task_config\n",
        "    }\n",
        "}"
      ],
      "execution_count": null,
      "outputs": []
    },
    {
      "cell_type": "code",
      "metadata": {
        "id": "56Al_eLuhpT_",
        "colab_type": "code",
        "colab": {}
      },
      "source": [
        "loaders_config = {\n",
        "    \"batch_size\": 1,\n",
        "    # ci-dessous, la liste des transformations à appliquer à toutes les images...\n",
        "    \"base_transforms\": [\n",
        "\n",
        "        {\n",
        "            \"operation\": \"thelper.transforms.Resize\",\n",
        "            \"params\": {\"dsize\": [224, 224]},\n",
        "        },\n",
        "        {\n",
        "            \"operation\": \"thelper.transforms.NormalizeMinMax\",\n",
        "            \"params\": {\n",
        "                \"min\": [0, 0, 0],\n",
        "                \"max\": [255, 255, 255]\n",
        "            },\n",
        "        },\n",
        "        {\n",
        "            \"operation\": \"thelper.transforms.NormalizeZeroMeanUnitVar\",\n",
        "            \"params\": {\n",
        "                \"mean\": [0.485, 0.456, 0.406],\n",
        "                \"std\": [0.229, 0.224, 0.225]\n",
        "            },\n",
        "        },\n",
        "        {\n",
        "            \"operation\": \"torchvision.transforms.ToTensor\",\n",
        "        },\n",
        "    ],\n",
        "\n",
        "    \"test_split\": {\n",
        "        \"deepglobe_test\": 1.0\n",
        "    },\n",
        "}"
      ],
      "execution_count": null,
      "outputs": []
    },
    {
      "cell_type": "code",
      "metadata": {
        "id": "VcpQbbO0h4rJ",
        "colab_type": "code",
        "colab": {}
      },
      "source": [
        "model_config = {\n",
        "    \"type\": torchvision.models.resnet18,\n",
        "    \"params\": {\"pretrained\": True},\n",
        "    \"state_dict\": '/home/sfoucher/DEV/pytorch-segmentation/model/resnet_2020-07-16 14:36:58.634014/model.pth',\n",
        "    \"task\": task_config\n",
        "\n",
        "}"
      ],
      "execution_count": null,
      "outputs": []
    },
    {
      "cell_type": "code",
      "metadata": {
        "id": "VBajqXpmh-ZV",
        "colab_type": "code",
        "colab": {}
      },
      "source": [
        "config = {\"name\": 'deepglobe-resnet-18', \"model\": model_config, \"datasets\": datasets_config, \"loaders\": loaders_config,\n",
        "              \"trainer\": trainer_config}"
      ],
      "execution_count": null,
      "outputs": []
    },
    {
      "cell_type": "code",
      "metadata": {
        "id": "0tary99Be0_p",
        "colab_type": "code",
        "colab": {}
      },
      "source": [
        "\n",
        "export_config = {\n",
        "    \"ckpt_name\": \"test-resnet18-imagenet.pth\",\n",
        "    \"trace_name\": \"test-resnet18-imagenet.zip\",\n",
        "    \"save_raw\": True,\n",
        "    \"trace_input\": \"torch.rand(1, 3, 224, 224)\",\n",
        "    \"task\": {\n",
        "        \"type\": \"thelper.tasks.Classification\",\n",
        "        \"params\": {\n",
        "            \"class_names\": \"tests/meta/imagenet_classes.json\",\n",
        "            \"input_key\": \"0\",\n",
        "            \"label_key\": \"1\"\n",
        "        }\n",
        "    }\n",
        "}\n",
        "\n",
        "\n",
        "# model = thelper.nn.create_model(config, task, save_dir=save_dir)\n",
        "# model.eval()\n",
        "thelper.cli.export_model(config, '/home/sfoucher/DEV/geoimagenet/pth')\n",
        "\n",
        "class_mapping = [('AgriculturalLand', 223), ('BarrenLand', 252), ('ForestLand', 233), ('RangeLand', 229),\n",
        "                  ('UrbanLand', 200), ('Water', 239)]\n",
        "\n",
        "\n",
        "\n"
      ],
      "execution_count": null,
      "outputs": []
    },
    {
      "cell_type": "code",
      "metadata": {
        "id": "sMv3cuhliNwg",
        "colab_type": "code",
        "colab": {}
      },
      "source": [
        "update_model_class_mapping(class_mapping,\n",
        "                            '/home/sfoucher/DEV/geoimagenet/pth/deepglobe-resnet-18/deepglobe-resnet-18.export.pth', None)\n",
        "# success, model, buffer, exception = load_model('/home/sfoucher/DEV/geoimagenet/pth/deepglobe-unet/deepglobe-unet.export.pth')\n",
        "# validate_model(model)"
      ],
      "execution_count": null,
      "outputs": []
    }
  ]
}