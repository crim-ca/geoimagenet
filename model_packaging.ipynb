{
  "nbformat": 4,
  "nbformat_minor": 0,
  "metadata": {
    "colab": {
      "name": "model_packaging.ipynb",
      "provenance": [],
      "collapsed_sections": [],
      "toc_visible": true
    },
    "kernelspec": {
      "name": "python3",
      "display_name": "Python 3"
    },
    "accelerator": "GPU",
    "widgets": {
      "application/vnd.jupyter.widget-state+json": {
        "57cc20429dd3499286d1ccd3b7dcfc58": {
          "model_module": "@jupyter-widgets/controls",
          "model_name": "HBoxModel",
          "state": {
            "_view_name": "HBoxView",
            "_dom_classes": [],
            "_model_name": "HBoxModel",
            "_view_module": "@jupyter-widgets/controls",
            "_model_module_version": "1.5.0",
            "_view_count": null,
            "_view_module_version": "1.5.0",
            "box_style": "",
            "layout": "IPY_MODEL_9c26d0a4d51548f88796932a5b20c41d",
            "_model_module": "@jupyter-widgets/controls",
            "children": [
              "IPY_MODEL_17c3547ec1fc48c287f991480fd31c2b",
              "IPY_MODEL_0ac3661cd2424a6ab7550512b04ddb02"
            ]
          }
        },
        "9c26d0a4d51548f88796932a5b20c41d": {
          "model_module": "@jupyter-widgets/base",
          "model_name": "LayoutModel",
          "state": {
            "_view_name": "LayoutView",
            "grid_template_rows": null,
            "right": null,
            "justify_content": null,
            "_view_module": "@jupyter-widgets/base",
            "overflow": null,
            "_model_module_version": "1.2.0",
            "_view_count": null,
            "flex_flow": null,
            "width": null,
            "min_width": null,
            "border": null,
            "align_items": null,
            "bottom": null,
            "_model_module": "@jupyter-widgets/base",
            "top": null,
            "grid_column": null,
            "overflow_y": null,
            "overflow_x": null,
            "grid_auto_flow": null,
            "grid_area": null,
            "grid_template_columns": null,
            "flex": null,
            "_model_name": "LayoutModel",
            "justify_items": null,
            "grid_row": null,
            "max_height": null,
            "align_content": null,
            "visibility": null,
            "align_self": null,
            "height": null,
            "min_height": null,
            "padding": null,
            "grid_auto_rows": null,
            "grid_gap": null,
            "max_width": null,
            "order": null,
            "_view_module_version": "1.2.0",
            "grid_template_areas": null,
            "object_position": null,
            "object_fit": null,
            "grid_auto_columns": null,
            "margin": null,
            "display": null,
            "left": null
          }
        },
        "17c3547ec1fc48c287f991480fd31c2b": {
          "model_module": "@jupyter-widgets/controls",
          "model_name": "FloatProgressModel",
          "state": {
            "_view_name": "ProgressView",
            "style": "IPY_MODEL_62b9b3db88994898bef0961a0f880cfa",
            "_dom_classes": [],
            "description": "100%",
            "_model_name": "FloatProgressModel",
            "bar_style": "success",
            "max": 46827520,
            "_view_module": "@jupyter-widgets/controls",
            "_model_module_version": "1.5.0",
            "value": 46827520,
            "_view_count": null,
            "_view_module_version": "1.5.0",
            "orientation": "horizontal",
            "min": 0,
            "description_tooltip": null,
            "_model_module": "@jupyter-widgets/controls",
            "layout": "IPY_MODEL_a635a47cb0104290971a65fc96e6ab4b"
          }
        },
        "0ac3661cd2424a6ab7550512b04ddb02": {
          "model_module": "@jupyter-widgets/controls",
          "model_name": "HTMLModel",
          "state": {
            "_view_name": "HTMLView",
            "style": "IPY_MODEL_706742c65b6e4145afc24b25d04f56c7",
            "_dom_classes": [],
            "description": "",
            "_model_name": "HTMLModel",
            "placeholder": "​",
            "_view_module": "@jupyter-widgets/controls",
            "_model_module_version": "1.5.0",
            "value": " 44.7M/44.7M [00:00&lt;00:00, 104MB/s]",
            "_view_count": null,
            "_view_module_version": "1.5.0",
            "description_tooltip": null,
            "_model_module": "@jupyter-widgets/controls",
            "layout": "IPY_MODEL_2280db35cdd64141b43914ff69aec5a9"
          }
        },
        "62b9b3db88994898bef0961a0f880cfa": {
          "model_module": "@jupyter-widgets/controls",
          "model_name": "ProgressStyleModel",
          "state": {
            "_view_name": "StyleView",
            "_model_name": "ProgressStyleModel",
            "description_width": "initial",
            "_view_module": "@jupyter-widgets/base",
            "_model_module_version": "1.5.0",
            "_view_count": null,
            "_view_module_version": "1.2.0",
            "bar_color": null,
            "_model_module": "@jupyter-widgets/controls"
          }
        },
        "a635a47cb0104290971a65fc96e6ab4b": {
          "model_module": "@jupyter-widgets/base",
          "model_name": "LayoutModel",
          "state": {
            "_view_name": "LayoutView",
            "grid_template_rows": null,
            "right": null,
            "justify_content": null,
            "_view_module": "@jupyter-widgets/base",
            "overflow": null,
            "_model_module_version": "1.2.0",
            "_view_count": null,
            "flex_flow": null,
            "width": null,
            "min_width": null,
            "border": null,
            "align_items": null,
            "bottom": null,
            "_model_module": "@jupyter-widgets/base",
            "top": null,
            "grid_column": null,
            "overflow_y": null,
            "overflow_x": null,
            "grid_auto_flow": null,
            "grid_area": null,
            "grid_template_columns": null,
            "flex": null,
            "_model_name": "LayoutModel",
            "justify_items": null,
            "grid_row": null,
            "max_height": null,
            "align_content": null,
            "visibility": null,
            "align_self": null,
            "height": null,
            "min_height": null,
            "padding": null,
            "grid_auto_rows": null,
            "grid_gap": null,
            "max_width": null,
            "order": null,
            "_view_module_version": "1.2.0",
            "grid_template_areas": null,
            "object_position": null,
            "object_fit": null,
            "grid_auto_columns": null,
            "margin": null,
            "display": null,
            "left": null
          }
        },
        "706742c65b6e4145afc24b25d04f56c7": {
          "model_module": "@jupyter-widgets/controls",
          "model_name": "DescriptionStyleModel",
          "state": {
            "_view_name": "StyleView",
            "_model_name": "DescriptionStyleModel",
            "description_width": "",
            "_view_module": "@jupyter-widgets/base",
            "_model_module_version": "1.5.0",
            "_view_count": null,
            "_view_module_version": "1.2.0",
            "_model_module": "@jupyter-widgets/controls"
          }
        },
        "2280db35cdd64141b43914ff69aec5a9": {
          "model_module": "@jupyter-widgets/base",
          "model_name": "LayoutModel",
          "state": {
            "_view_name": "LayoutView",
            "grid_template_rows": null,
            "right": null,
            "justify_content": null,
            "_view_module": "@jupyter-widgets/base",
            "overflow": null,
            "_model_module_version": "1.2.0",
            "_view_count": null,
            "flex_flow": null,
            "width": null,
            "min_width": null,
            "border": null,
            "align_items": null,
            "bottom": null,
            "_model_module": "@jupyter-widgets/base",
            "top": null,
            "grid_column": null,
            "overflow_y": null,
            "overflow_x": null,
            "grid_auto_flow": null,
            "grid_area": null,
            "grid_template_columns": null,
            "flex": null,
            "_model_name": "LayoutModel",
            "justify_items": null,
            "grid_row": null,
            "max_height": null,
            "align_content": null,
            "visibility": null,
            "align_self": null,
            "height": null,
            "min_height": null,
            "padding": null,
            "grid_auto_rows": null,
            "grid_gap": null,
            "max_width": null,
            "order": null,
            "_view_module_version": "1.2.0",
            "grid_template_areas": null,
            "object_position": null,
            "object_fit": null,
            "grid_auto_columns": null,
            "margin": null,
            "display": null,
            "left": null
          }
        }
      }
    }
  },
  "cells": [
    {
      "cell_type": "markdown",
      "metadata": {
        "id": "035kgZ8EwdWn",
        "colab_type": "text"
      },
      "source": [
        "# Model Packaging for GeoImageNet"
      ]
    },
    {
      "cell_type": "markdown",
      "metadata": {
        "id": "fmTElCSfdn-W",
        "colab_type": "text"
      },
      "source": [
        "This notebook explains how to package your model using the thelper library.\n",
        "First install the required library:"
      ]
    },
    {
      "cell_type": "code",
      "metadata": {
        "id": "ZTCbXAh_dNhe",
        "colab_type": "code",
        "colab": {
          "base_uri": "https://localhost:8080/",
          "height": 52
        },
        "outputId": "9a9ac8b8-378a-489c-9438-deae2711c3d7"
      },
      "source": [
        "%%bash\n",
        "pip3 --quiet install  torch torchvision pillow gitpython lz4 matplotlib numpy pyyaml scikit-learn six tqdm h5py opencv-python googledrivedownloader pretrainedmodels albumentations pyyaml\n",
        "pip3 --quiet install affine geojson shapely pyproj hdf5plugin\n",
        "pip uninstall thelper\n",
        "rm -rf ./thelper\n",
        "git clone https://github.com/sfoucher/thelper\n",
        "pip3 install --quiet -e ./thelper"
      ],
      "execution_count": 11,
      "outputs": [
        {
          "output_type": "stream",
          "text": [
            "Can't uninstall 'thelper'. No files were found to uninstall.\n"
          ],
          "name": "stdout"
        },
        {
          "output_type": "stream",
          "text": [
            "Cloning into 'thelper'...\n"
          ],
          "name": "stderr"
        }
      ]
    },
    {
      "cell_type": "markdown",
      "metadata": {
        "id": "qNj5WKX4glBd",
        "colab_type": "text"
      },
      "source": [
        "The first time you are installing thelper, you may need to restart the current session"
      ]
    },
    {
      "cell_type": "code",
      "metadata": {
        "id": "ncPe5mi4ggko",
        "colab_type": "code",
        "colab": {}
      },
      "source": [
        "import os\n",
        "os.kill(os.getpid(), 9)"
      ],
      "execution_count": null,
      "outputs": []
    },
    {
      "cell_type": "markdown",
      "metadata": {
        "id": "Z0TssCLDxcTg",
        "colab_type": "text"
      },
      "source": [
        "Make sure thelper is imported correctly"
      ]
    },
    {
      "cell_type": "code",
      "metadata": {
        "id": "dQGmKjyifhmw",
        "colab_type": "code",
        "colab": {}
      },
      "source": [
        "import os\n",
        "import torch\n",
        "import torchvision\n",
        "import thelper\n",
        "# initialisation des logs (pour TOUT imprimer ce qui se passe)\n",
        "thelper.utils.init_logger()"
      ],
      "execution_count": 7,
      "outputs": []
    },
    {
      "cell_type": "markdown",
      "metadata": {
        "id": "ECU9faIyivUN",
        "colab_type": "text"
      },
      "source": [
        "This function below is useful to download datasets from google drive."
      ]
    },
    {
      "cell_type": "code",
      "metadata": {
        "id": "PvW-hFePioLQ",
        "colab_type": "code",
        "colab": {}
      },
      "source": [
        "from google_drive_downloader import GoogleDriveDownloader as gdd\n",
        "import os.path as osp\n",
        "import sys\n",
        "\n",
        "\n",
        "def maybe_download_and_extract(file_id, dest_path ):\n",
        "    filename = dest_path.split('/')[-1]\n",
        "    file_path = dest_path\n",
        "    download_dir= osp.dirname(osp.abspath(dest_path))\n",
        "    if not os.path.isfile(dest_path):\n",
        "      gdd.download_file_from_google_drive(file_id= file_id, dest_path= file_path)\n",
        "      print(\"Download finished. Extracting files.\")\n",
        "\n",
        "      if file_path.endswith(\".zip\"):\n",
        "          # Unpack the zip-file.\n",
        "          zipfile.ZipFile(file=file_path, mode=\"r\").extractall(download_dir)\n",
        "      elif file_path.endswith((\".tar.gz\", \".tgz\")):\n",
        "          # Unpack the tar-ball.\n",
        "          tarfile.open(name=file_path, mode=\"r:gz\").extractall(download_dir)\n",
        "      print(\"Done.\")\n",
        "    else:\n",
        "        print(\"Data has apparently already been downloaded and unpacked.\")"
      ],
      "execution_count": 2,
      "outputs": []
    },
    {
      "cell_type": "markdown",
      "metadata": {
        "id": "wTnTevFwwVqg",
        "colab_type": "text"
      },
      "source": [
        "We download a Resnet-18 trained on DeepGlobe:"
      ]
    },
    {
      "cell_type": "code",
      "metadata": {
        "id": "6UgyF2pSldyH",
        "colab_type": "code",
        "colab": {
          "base_uri": "https://localhost:8080/",
          "height": 70
        },
        "outputId": "59abd195-8651-47c5-c810-0a27911e2049"
      },
      "source": [
        "maybe_download_and_extract('1Xl3LYBkmN-MVqBFR5eenHskOem-xVIY9','/content/model.pth')"
      ],
      "execution_count": 3,
      "outputs": [
        {
          "output_type": "stream",
          "text": [
            "Downloading 1Xl3LYBkmN-MVqBFR5eenHskOem-xVIY9 into /content/model.pth... Done.\n",
            "Download finished. Extracting files.\n",
            "Done.\n"
          ],
          "name": "stdout"
        }
      ]
    },
    {
      "cell_type": "markdown",
      "metadata": {
        "id": "LnMLlqEqnQE_",
        "colab_type": "text"
      },
      "source": [
        "### Classfication Task\n",
        "\n",
        "Specify your class names:"
      ]
    },
    {
      "cell_type": "code",
      "metadata": {
        "id": "HaMPZbu2nXlF",
        "colab_type": "code",
        "colab": {}
      },
      "source": [
        "class_names = [\"AgriculturalLand\", \"BarrenLand\", \"ForestLand\", \"RangeLand\", \"UrbanLand\", \"Water\"]"
      ],
      "execution_count": 2,
      "outputs": []
    },
    {
      "cell_type": "markdown",
      "metadata": {
        "id": "6OYw7ztWvaFr",
        "colab_type": "text"
      },
      "source": [
        "Check that they are defined in the taxonomy"
      ]
    },
    {
      "cell_type": "code",
      "metadata": {
        "id": "s3rizSwOqgzu",
        "colab_type": "code",
        "colab": {
          "base_uri": "https://localhost:8080/",
          "height": 55
        },
        "outputId": "8e0a73d5-aa2b-4f78-8d8b-68fe6932ad95"
      },
      "source": [
        "import requests\n",
        "import json\n",
        "response = requests.get('https://geoimagenet.ca/api/v1/taxonomy_classes?taxonomy_name=land-cover')\n",
        "taxonomy_classes = json.loads(response.content)\n",
        "print(taxonomy_classes)"
      ],
      "execution_count": 5,
      "outputs": [
        {
          "output_type": "stream",
          "text": [
            "[{'id': 205, 'name_fr': 'Couverture de sol', 'taxonomy_id': 2, 'code': 'COUV', 'name_en': 'Land cover', 'children': [{'id': 206, 'name_fr': 'Urbain ou bâti', 'taxonomy_id': 2, 'code': 'URBA', 'name_en': 'Urban or Built-up Land', 'children': [{'id': 207, 'name_fr': 'Zone résidentielle', 'taxonomy_id': 2, 'code': 'RESD', 'name_en': 'Residential', 'children': [{'id': 208, 'name_fr': 'Densité faible', 'taxonomy_id': 2, 'code': 'DENS', 'name_en': 'Low density', 'children': []}, {'id': 209, 'name_fr': 'Densité moyenne', 'taxonomy_id': 2, 'code': 'DENI', 'name_en': 'Medium density', 'children': []}, {'id': 210, 'name_fr': 'Densité élevée', 'taxonomy_id': 2, 'code': 'DENT', 'name_en': 'High density', 'children': []}, {'id': 211, 'name_fr': 'Parc de maisons mobiles', 'taxonomy_id': 2, 'code': 'PARC', 'name_en': 'Mobile home park', 'children': []}]}, {'id': 212, 'name_fr': 'Zone commerciales et services', 'taxonomy_id': 2, 'code': 'COMC', 'name_en': 'Commercial and Services', 'children': [{'id': 213, 'name_fr': 'Terrain associé au commerce ou au service', 'taxonomy_id': 2, 'code': 'TERR', 'name_en': 'Ground related to commercial or services', 'children': []}, {'id': 278, 'name_fr': 'Campus (université ou collège)', 'taxonomy_id': 2, 'code': 'CAMP', 'name_en': 'Campus (university or college)', 'children': []}]}, {'id': 214, 'name_fr': 'Zone industrielle', 'taxonomy_id': 2, 'code': 'INDS', 'name_en': 'Industrial', 'children': [{'id': 215, 'name_fr': \"Terrain associé à l'industrie\", 'taxonomy_id': 2, 'code': 'TERA', 'name_en': 'Ground related to industry', 'children': []}]}, {'id': 216, 'name_fr': 'Zone de transport', 'taxonomy_id': 2, 'code': 'TRAS', 'name_en': 'Transportation', 'children': [{'id': 217, 'name_fr': 'Emprise/corridor de transport routier', 'taxonomy_id': 2, 'code': 'EMPR', 'name_en': 'Road corridor', 'children': []}, {'id': 218, 'name_fr': 'Emprise/corridor de transport ferroviaire', 'taxonomy_id': 2, 'code': 'EMPI', 'name_en': 'Train corridor', 'children': []}, {'id': 219, 'name_fr': 'Zone portuaire', 'taxonomy_id': 2, 'code': 'ZONE', 'name_en': 'Harbour area', 'children': []}, {'id': 220, 'name_fr': 'Zone aéroportuaire', 'taxonomy_id': 2, 'code': 'ZONA', 'name_en': 'Airport area', 'children': []}]}, {'id': 221, 'name_fr': 'Énergie', 'taxonomy_id': 2, 'code': 'ENEY', 'name_en': 'Energy', 'children': [{'id': 222, 'name_fr': \"Emprise/corridor de transport d'énergie électrique\", 'taxonomy_id': 2, 'code': 'EMPS', 'name_en': 'Electrical power right of way', 'children': []}, {'id': 223, 'name_fr': 'Emprise de pipeline', 'taxonomy_id': 2, 'code': 'EMPE', 'name_en': 'Pipeline right of way', 'children': []}, {'id': 224, 'name_fr': 'Parc solaire', 'taxonomy_id': 2, 'code': 'PARS', 'name_en': 'Solar park', 'children': []}]}, {'id': 225, 'name_fr': 'Urbain et bâti autre', 'taxonomy_id': 2, 'code': 'OTHU', 'name_en': 'Other Urban or Built-up Land', 'children': [{'id': 226, 'name_fr': 'Parc, espace vert', 'taxonomy_id': 2, 'code': 'PARE', 'name_en': 'Park, green space', 'children': []}, {'id': 227, 'name_fr': 'Terrain associé aux installations (traitement des eaux, traitement des déchets)', 'taxonomy_id': 2, 'code': 'TERI', 'name_en': 'Ground related to installations (water treatment, waste treatment', 'children': []}]}]}, {'id': 228, 'name_fr': 'Terre agricole', 'taxonomy_id': 2, 'code': 'AGRU', 'name_en': 'Agricultural Land', 'children': [{'id': 229, 'name_fr': 'Grande culture', 'taxonomy_id': 2, 'code': 'GRAN', 'name_en': 'Cropland', 'children': []}, {'id': 230, 'name_fr': 'Maraîcher', 'taxonomy_id': 2, 'code': 'MARA', 'name_en': 'Vegetable crop', 'children': []}, {'id': 231, 'name_fr': 'Pâturage', 'taxonomy_id': 2, 'code': 'PATU', 'name_en': 'Pasture', 'children': []}, {'id': 232, 'name_fr': 'Ferme (terrain avec bâtiments)', 'taxonomy_id': 2, 'code': 'FERM', 'name_en': 'Farmhouse and buildings / Farmstead', 'children': []}, {'id': 233, 'name_fr': 'Terre agricole autre', 'taxonomy_id': 2, 'code': 'OTHA', 'name_en': 'Other Agricultural Land', 'children': []}]}, {'id': 234, 'name_fr': 'Pâturage', 'taxonomy_id': 2, 'code': 'RANG', 'name_en': 'Rangeland', 'children': [{'id': 235, 'name_fr': 'Pâturage herbeux', 'taxonomy_id': 2, 'code': 'HERB', 'name_en': 'Herbaceous Rangeland', 'children': []}, {'id': 236, 'name_fr': 'Pâturage arbuste et buisson', 'taxonomy_id': 2, 'code': 'SHRU', 'name_en': 'Shrub and Brush Rangeland', 'children': []}, {'id': 237, 'name_fr': 'Pâturage mixte', 'taxonomy_id': 2, 'code': 'MIXE', 'name_en': 'Mixed Rangeland', 'children': []}]}, {'id': 238, 'name_fr': 'Région forestière', 'taxonomy_id': 2, 'code': 'FORE', 'name_en': 'Forest Land', 'children': [{'id': 239, 'name_fr': 'Forêt feuillue', 'taxonomy_id': 2, 'code': 'DECD', 'name_en': 'Deciduous Forest Land', 'children': []}, {'id': 240, 'name_fr': 'Forêt conifère', 'taxonomy_id': 2, 'code': 'EVER', 'name_en': 'Evergreen Forest Land', 'children': []}, {'id': 241, 'name_fr': 'Forêt mixte', 'taxonomy_id': 2, 'code': 'MIXD', 'name_en': 'Mixed Forest Land', 'children': []}, {'id': 242, 'name_fr': 'Plantation', 'taxonomy_id': 2, 'code': 'PLAN', 'name_en': 'Plantation', 'children': []}, {'id': 243, 'name_fr': 'Perturbation récente (feu, coupe)', 'taxonomy_id': 2, 'code': 'RECE', 'name_en': 'Recent disturbance (fire, clear-cut)', 'children': []}]}, {'id': 244, 'name_fr': 'Région hydrique', 'taxonomy_id': 2, 'code': 'WAER', 'name_en': 'Water', 'children': [{'id': 245, 'name_fr': 'Fleuve/ ruisseau', 'taxonomy_id': 2, 'code': 'STRA', 'name_en': 'Stream', 'children': []}, {'id': 246, 'name_fr': 'Lac', 'taxonomy_id': 2, 'code': 'LAKE', 'name_en': 'Lake', 'children': []}, {'id': 247, 'name_fr': 'Réservoir', 'taxonomy_id': 2, 'code': 'RESE', 'name_en': 'Reservoir', 'children': []}, {'id': 248, 'name_fr': 'Baie et esturaire', 'taxonomy_id': 2, 'code': 'BAYS', 'name_en': 'Bay and Estuarie', 'children': []}, {'id': 249, 'name_fr': 'Canal', 'taxonomy_id': 2, 'code': 'CANA', 'name_en': 'Canal', 'children': []}]}, {'id': 250, 'name_fr': 'Milieu humide', 'taxonomy_id': 2, 'code': 'WETA', 'name_en': 'Wetland', 'children': [{'id': 251, 'name_fr': 'Tourbière boisée', 'taxonomy_id': 2, 'code': 'FORS', 'name_en': 'Forested peatland', 'children': []}, {'id': 252, 'name_fr': 'Bog (tourbière ombrotrophe)', 'taxonomy_id': 2, 'code': 'BOGG', 'name_en': 'Bog', 'children': []}, {'id': 253, 'name_fr': 'Fen (tourbière minérotrophe)', 'taxonomy_id': 2, 'code': 'FNEN', 'name_en': 'Fen', 'children': []}, {'id': 254, 'name_fr': 'Marécage', 'taxonomy_id': 2, 'code': 'SWAP', 'name_en': 'Swamp', 'children': []}, {'id': 255, 'name_fr': 'Marais', 'taxonomy_id': 2, 'code': 'MARH', 'name_en': 'Marsh', 'children': []}, {'id': 279, 'name_fr': 'Eau peu profonde', 'taxonomy_id': 2, 'code': 'SHAW', 'name_en': 'Shallow water', 'children': []}]}, {'id': 256, 'name_fr': 'Sans végétation', 'taxonomy_id': 2, 'code': 'BARR', 'name_en': 'Barren Land', 'children': [{'id': 257, 'name_fr': 'Salant sec', 'taxonomy_id': 2, 'code': 'DRYS', 'name_en': 'Dry Salt Flat', 'children': []}, {'id': 258, 'name_fr': 'Plage', 'taxonomy_id': 2, 'code': 'BEAC', 'name_en': 'Beach', 'children': []}, {'id': 259, 'name_fr': 'Zone sablonneuse (pas plage)', 'taxonomy_id': 2, 'code': 'SAND', 'name_en': 'Sandy Area other than Beach', 'children': []}, {'id': 260, 'name_fr': 'Affleurement rocheux', 'taxonomy_id': 2, 'code': 'BARE', 'name_en': 'Bare Exposed Rock', 'children': []}, {'id': 261, 'name_fr': 'Carrière à ciel ouvert et gravière', 'taxonomy_id': 2, 'code': 'STRI', 'name_en': 'Strip Mine Quarrie, and Gravel Pit', 'children': []}, {'id': 262, 'name_fr': 'Zone de transistion', 'taxonomy_id': 2, 'code': 'TRAT', 'name_en': 'Transitional Area', 'children': []}, {'id': 263, 'name_fr': 'Terrain sans végétation - mixte', 'taxonomy_id': 2, 'code': 'MIXB', 'name_en': 'Mixed Barren Land', 'children': []}]}, {'id': 264, 'name_fr': 'Toundra', 'taxonomy_id': 2, 'code': 'TUND', 'name_en': 'Tundra', 'children': [{'id': 265, 'name_fr': 'Toundra arbuste et buisson', 'taxonomy_id': 2, 'code': 'SHRB', 'name_en': 'Shrub and Brush Tundra', 'children': []}, {'id': 266, 'name_fr': 'Toundra herbeuse', 'taxonomy_id': 2, 'code': 'HERA', 'name_en': 'Herbaceous Tundra', 'children': []}, {'id': 267, 'name_fr': 'Toundra sol nu', 'taxonomy_id': 2, 'code': 'BARG', 'name_en': 'Bare Ground Tundra', 'children': []}, {'id': 268, 'name_fr': 'Toundra humide', 'taxonomy_id': 2, 'code': 'WETT', 'name_en': 'Wet Tundra', 'children': []}, {'id': 269, 'name_fr': 'Toundra mixte', 'taxonomy_id': 2, 'code': 'MIXT', 'name_en': 'Mixed Tundra', 'children': []}]}, {'id': 270, 'name_fr': 'Neige et glace permanentes', 'taxonomy_id': 2, 'code': 'PERE', 'name_en': 'Perennial Snow or Ice', 'children': [{'id': 271, 'name_fr': 'Neige permanente', 'taxonomy_id': 2, 'code': 'PERN', 'name_en': 'Perennial Snowfield', 'children': []}, {'id': 272, 'name_fr': 'Glacier', 'taxonomy_id': 2, 'code': 'GLAI', 'name_en': 'Glacier', 'children': []}]}, {'id': 273, 'name_fr': 'Forme terrestre', 'taxonomy_id': 2, 'code': 'FORM', 'name_en': 'Glacial landform', 'children': [{'id': 274, 'name_fr': 'Esker', 'taxonomy_id': 2, 'code': 'ESKR', 'name_en': 'Esker', 'children': []}, {'id': 275, 'name_fr': 'Moraine', 'taxonomy_id': 2, 'code': 'MORI', 'name_en': 'Moraine', 'children': []}, {'id': 276, 'name_fr': 'Pingo', 'taxonomy_id': 2, 'code': 'PINO', 'name_en': 'Pingo', 'children': []}, {'id': 277, 'name_fr': 'Drumlin', 'taxonomy_id': 2, 'code': 'DRUL', 'name_en': 'Drumlin', 'children': []}]}]}]\n"
          ],
          "name": "stdout"
        }
      ]
    },
    {
      "cell_type": "markdown",
      "metadata": {
        "id": "WutvZHkn6p-G",
        "colab_type": "text"
      },
      "source": [
        "Define a class mapping between your class names and the taxonomy ids"
      ]
    },
    {
      "cell_type": "code",
      "metadata": {
        "id": "qdWKFOm66ghC",
        "colab_type": "code",
        "colab": {}
      },
      "source": [
        "class_mapping = [('AgriculturalLand', 223), ('BarrenLand', 252), ('ForestLand', 233), ('RangeLand', 229),\n",
        "                  ('UrbanLand', 200), ('Water', 239)]"
      ],
      "execution_count": null,
      "outputs": []
    },
    {
      "cell_type": "markdown",
      "metadata": {
        "id": "L6JjzFCpwpap",
        "colab_type": "text"
      },
      "source": [
        "Define the task as a classification task:"
      ]
    },
    {
      "cell_type": "code",
      "metadata": {
        "id": "_9WYIhzFg7tH",
        "colab_type": "code",
        "colab": {}
      },
      "source": [
        "task_config = {\n",
        "    \"type\": \"thelper.tasks.Classification\",\n",
        "    \"params\": {\n",
        "        \"class_names\": class_names,\n",
        "        \"input_key\": \"data\",\n",
        "        \"label_key\": \"label\"\n",
        "    }\n",
        "}"
      ],
      "execution_count": 3,
      "outputs": []
    },
    {
      "cell_type": "markdown",
      "metadata": {
        "id": "oVsdiS8LhSLJ",
        "colab_type": "text"
      },
      "source": [
        "Define the data loader, you'll need to specify the bands you are using (starting with channel no 1):\n",
        "\n"
      ]
    },
    {
      "cell_type": "code",
      "metadata": {
        "id": "r9IPcxjOhf8I",
        "colab_type": "code",
        "colab": {}
      },
      "source": [
        "datasets_config = {\n",
        "    \"deepglobe_test\": {\n",
        "        \"type\": \"thelper.data.geo.ImageFolderGDataset\",\n",
        "        \"params\": {\"root\": \"/content/\",\n",
        "                    \"image_key\": \"image\",\n",
        "                    \"channels\": [1,2,3]\n",
        "\n",
        "                    },\n",
        "        \"task\": task_config\n",
        "    }\n",
        "}"
      ],
      "execution_count": 4,
      "outputs": []
    },
    {
      "cell_type": "markdown",
      "metadata": {
        "id": "a91XnZOzxLEe",
        "colab_type": "text"
      },
      "source": [
        "Define the pre-processing pipeline as following:"
      ]
    },
    {
      "cell_type": "code",
      "metadata": {
        "id": "56Al_eLuhpT_",
        "colab_type": "code",
        "colab": {}
      },
      "source": [
        "loaders_config = {\n",
        "    #\"batch_size\": 1,\n",
        "    \"base_transforms\": [\n",
        "\n",
        "        {\n",
        "            \"operation\": \"thelper.transforms.Resize\",\n",
        "            \"params\": {\"dsize\": [224, 224]},\n",
        "        },\n",
        "        {\n",
        "            \"operation\": \"thelper.transforms.NormalizeMinMax\",\n",
        "            \"params\": {\n",
        "                \"min\": [0, 0, 0],\n",
        "                \"max\": [255, 255, 255]\n",
        "            },\n",
        "        },\n",
        "        {\n",
        "            \"operation\": \"thelper.transforms.NormalizeZeroMeanUnitVar\",\n",
        "            \"params\": {\n",
        "                \"mean\": [0.485, 0.456, 0.406],\n",
        "                \"std\": [0.229, 0.224, 0.225]\n",
        "            },\n",
        "        },\n",
        "        {\n",
        "            \"operation\": \"torchvision.transforms.ToTensor\",\n",
        "        },\n",
        "    ],\n",
        "\n",
        "    #\"test_split\": {\n",
        "    #    \"deepglobe_test\": 1.0\n",
        "    #},\n",
        "}"
      ],
      "execution_count": 5,
      "outputs": []
    },
    {
      "cell_type": "code",
      "metadata": {
        "id": "mfiLxGq9wGmT",
        "colab_type": "code",
        "colab": {}
      },
      "source": [
        "Define the model configuration"
      ],
      "execution_count": null,
      "outputs": []
    },
    {
      "cell_type": "code",
      "metadata": {
        "id": "VcpQbbO0h4rJ",
        "colab_type": "code",
        "colab": {}
      },
      "source": [
        "model_config = {\n",
        "    \"type\": torchvision.models.resnet18,\n",
        "    \"params\": {\"pretrained\": True},\n",
        "    \"state_dict\": '/content/model.pth',\n",
        "    \"task\": task_config\n",
        "}"
      ],
      "execution_count": 8,
      "outputs": []
    },
    {
      "cell_type": "code",
      "metadata": {
        "id": "VBajqXpmh-ZV",
        "colab_type": "code",
        "colab": {}
      },
      "source": [
        "config = {\"name\": 'deepglobe-resnet-18', \"model\": model_config, \"datasets\": datasets_config, \"loaders\": loaders_config}"
      ],
      "execution_count": 9,
      "outputs": []
    },
    {
      "cell_type": "code",
      "metadata": {
        "id": "0tary99Be0_p",
        "colab_type": "code",
        "colab": {
          "base_uri": "https://localhost:8080/",
          "height": 1000,
          "referenced_widgets": [
            "57cc20429dd3499286d1ccd3b7dcfc58",
            "9c26d0a4d51548f88796932a5b20c41d",
            "17c3547ec1fc48c287f991480fd31c2b",
            "0ac3661cd2424a6ab7550512b04ddb02",
            "62b9b3db88994898bef0961a0f880cfa",
            "a635a47cb0104290971a65fc96e6ab4b",
            "706742c65b6e4145afc24b25d04f56c7",
            "2280db35cdd64141b43914ff69aec5a9"
          ]
        },
        "outputId": "acec2091-a3a4-483d-d5ea-76426eec856a"
      },
      "source": [
        "\n",
        "export_config = {\n",
        "    \"ckpt_name\": \"test-resnet18-deepglobe.pth\",\n",
        "    \"trace_name\": \"test-resnet18-deepglobe.zip\",\n",
        "    \"save_raw\": True,\n",
        "    \"trace_input\": \"torch.rand(1, 3, 224, 224)\",\n",
        "    \"task\": {\n",
        "        \"type\": \"thelper.tasks.Classification\",\n",
        "        \"params\": {\n",
        "            \"class_names\": class_names,\n",
        "            \"input_key\": \"0\",\n",
        "            \"label_key\": \"1\"\n",
        "        }\n",
        "    }\n",
        "}\n",
        "\n",
        "\n",
        "thelper.cli.export_model(config, '/content/thelper-export')\n",
        "\n"
      ],
      "execution_count": 10,
      "outputs": [
        {
          "output_type": "stream",
          "text": [
            "[2020-09-04 20:26:54,883 - thelper.data.utils] DEBUG : loading datasets templates\n",
            "[2020-09-04 20:26:54,884 - thelper.data.utils] DEBUG : loading dataset 'deepglobe_test' configuration...\n",
            "[2020-09-04 20:26:55,051 - thelper.data.parsers] WARNING : class name ordering changed due to folder name sorting; this may impact the behavior of previously-trained models as task class indices may be swapped!\n",
            "[2020-09-04 20:26:55,053 - thelper.data.utils] WARNING : 'task' field detected in dataset 'deepglobe_test' config; dataset's default task will be ignored\n",
            "[2020-09-04 20:26:55,054 - thelper.cli.export_model] INFO : exporting model 'deepglobe-resnet-18'...\n",
            "[2020-09-04 20:26:55,061 - thelper.utils.get_save_dir] INFO : output root directory = /content/thelper-export\n",
            "[2020-09-04 20:26:55,312 - thelper.utils.get_save_dir] INFO : output session directory = /content/thelper-export/deepglobe-resnet-18\n",
            "[2020-09-04 20:26:55,315 - thelper.utils.get_save_dir] INFO : output logs directory = /content/thelper-export/deepglobe-resnet-18/logs\n",
            "[2020-09-04 20:26:55,319 - thelper.cli.export_model] DEBUG : exported checkpoint will be saved at '/content/thelper-export/deepglobe-resnet-18'\n",
            "[2020-09-04 20:26:55,320 - thelper.nn.utils] DEBUG : loading model\n",
            "[2020-09-04 20:26:55,321 - thelper.nn.utils] DEBUG : loading model type/params current config\n",
            "[2020-09-04 20:27:05,311 - thelper.nn.utils] DEBUG : model_type = <function resnet18 at 0x7f6dcc3ea048>\n",
            "[2020-09-04 20:27:05,312 - thelper.nn.utils] DEBUG : model_params = {'pretrained': True}\n",
            "[2020-09-04 20:27:05,317 - thelper.nn.utils] INFO : instantiating external module '<function resnet18 at 0x7f6dcc3ea048>'...\n",
            "Downloading: \"https://download.pytorch.org/models/resnet18-5c106cde.pth\" to /root/.cache/torch/hub/checkpoints/resnet18-5c106cde.pth\n"
          ],
          "name": "stderr"
        },
        {
          "output_type": "display_data",
          "data": {
            "application/vnd.jupyter.widget-view+json": {
              "model_id": "57cc20429dd3499286d1ccd3b7dcfc58",
              "version_minor": 0,
              "version_major": 2
            },
            "text/plain": [
              "HBox(children=(FloatProgress(value=0.0, max=46827520.0), HTML(value='')))"
            ]
          },
          "metadata": {
            "tags": []
          }
        },
        {
          "output_type": "stream",
          "text": [
            "[2020-09-04 20:27:05,947 - thelper.nn.utils] INFO : reconnecting fc layer for outputting 6 classes...\n",
            "[2020-09-04 20:27:05,949 - thelper.nn.utils] DEBUG : loading state dictionary from checkpoint into model\n",
            "[2020-09-04 20:27:05,971 - thelper.nn.utils] DEBUG : previous model task = thelper.tasks.classif.Classification(class_names=['AgriculturalLand', 'BarrenLand', 'ForestLand', 'RangeLand', 'UrbanLand', 'Water'], input_key='data', label_key='label', meta_keys=[])\n",
            "[2020-09-04 20:27:05,973 - thelper.nn.utils] DEBUG : refreshing model for new task = thelper.tasks.classif.Classification(class_names=['AgriculturalLand', 'BarrenLand', 'ForestLand', 'RangeLand', 'UrbanLand', 'Water'], input_key='data', label_key='label', meta_keys=[])\n",
            "[2020-09-04 20:27:05,979 - thelper.nn.utils] INFO : module 'torchvision.models.resnet.resnet18' parameter count: 11179590\n",
            "[2020-09-04 20:27:05,980 - thelper.nn.utils] INFO : ResNet(\n",
            "  (conv1): Conv2d(3, 64, kernel_size=(7, 7), stride=(2, 2), padding=(3, 3), bias=False)\n",
            "  (bn1): BatchNorm2d(64, eps=1e-05, momentum=0.1, affine=True, track_running_stats=True)\n",
            "  (relu): ReLU(inplace=True)\n",
            "  (maxpool): MaxPool2d(kernel_size=3, stride=2, padding=1, dilation=1, ceil_mode=False)\n",
            "  (layer1): Sequential(\n",
            "    (0): BasicBlock(\n",
            "      (conv1): Conv2d(64, 64, kernel_size=(3, 3), stride=(1, 1), padding=(1, 1), bias=False)\n",
            "      (bn1): BatchNorm2d(64, eps=1e-05, momentum=0.1, affine=True, track_running_stats=True)\n",
            "      (relu): ReLU(inplace=True)\n",
            "      (conv2): Conv2d(64, 64, kernel_size=(3, 3), stride=(1, 1), padding=(1, 1), bias=False)\n",
            "      (bn2): BatchNorm2d(64, eps=1e-05, momentum=0.1, affine=True, track_running_stats=True)\n",
            "    )\n",
            "    (1): BasicBlock(\n",
            "      (conv1): Conv2d(64, 64, kernel_size=(3, 3), stride=(1, 1), padding=(1, 1), bias=False)\n",
            "      (bn1): BatchNorm2d(64, eps=1e-05, momentum=0.1, affine=True, track_running_stats=True)\n",
            "      (relu): ReLU(inplace=True)\n",
            "      (conv2): Conv2d(64, 64, kernel_size=(3, 3), stride=(1, 1), padding=(1, 1), bias=False)\n",
            "      (bn2): BatchNorm2d(64, eps=1e-05, momentum=0.1, affine=True, track_running_stats=True)\n",
            "    )\n",
            "  )\n",
            "  (layer2): Sequential(\n",
            "    (0): BasicBlock(\n",
            "      (conv1): Conv2d(64, 128, kernel_size=(3, 3), stride=(2, 2), padding=(1, 1), bias=False)\n",
            "      (bn1): BatchNorm2d(128, eps=1e-05, momentum=0.1, affine=True, track_running_stats=True)\n",
            "      (relu): ReLU(inplace=True)\n",
            "      (conv2): Conv2d(128, 128, kernel_size=(3, 3), stride=(1, 1), padding=(1, 1), bias=False)\n",
            "      (bn2): BatchNorm2d(128, eps=1e-05, momentum=0.1, affine=True, track_running_stats=True)\n",
            "      (downsample): Sequential(\n",
            "        (0): Conv2d(64, 128, kernel_size=(1, 1), stride=(2, 2), bias=False)\n",
            "        (1): BatchNorm2d(128, eps=1e-05, momentum=0.1, affine=True, track_running_stats=True)\n",
            "      )\n",
            "    )\n",
            "    (1): BasicBlock(\n",
            "      (conv1): Conv2d(128, 128, kernel_size=(3, 3), stride=(1, 1), padding=(1, 1), bias=False)\n",
            "      (bn1): BatchNorm2d(128, eps=1e-05, momentum=0.1, affine=True, track_running_stats=True)\n",
            "      (relu): ReLU(inplace=True)\n",
            "      (conv2): Conv2d(128, 128, kernel_size=(3, 3), stride=(1, 1), padding=(1, 1), bias=False)\n",
            "      (bn2): BatchNorm2d(128, eps=1e-05, momentum=0.1, affine=True, track_running_stats=True)\n",
            "    )\n",
            "  )\n",
            "  (layer3): Sequential(\n",
            "    (0): BasicBlock(\n",
            "      (conv1): Conv2d(128, 256, kernel_size=(3, 3), stride=(2, 2), padding=(1, 1), bias=False)\n",
            "      (bn1): BatchNorm2d(256, eps=1e-05, momentum=0.1, affine=True, track_running_stats=True)\n",
            "      (relu): ReLU(inplace=True)\n",
            "      (conv2): Conv2d(256, 256, kernel_size=(3, 3), stride=(1, 1), padding=(1, 1), bias=False)\n",
            "      (bn2): BatchNorm2d(256, eps=1e-05, momentum=0.1, affine=True, track_running_stats=True)\n",
            "      (downsample): Sequential(\n",
            "        (0): Conv2d(128, 256, kernel_size=(1, 1), stride=(2, 2), bias=False)\n",
            "        (1): BatchNorm2d(256, eps=1e-05, momentum=0.1, affine=True, track_running_stats=True)\n",
            "      )\n",
            "    )\n",
            "    (1): BasicBlock(\n",
            "      (conv1): Conv2d(256, 256, kernel_size=(3, 3), stride=(1, 1), padding=(1, 1), bias=False)\n",
            "      (bn1): BatchNorm2d(256, eps=1e-05, momentum=0.1, affine=True, track_running_stats=True)\n",
            "      (relu): ReLU(inplace=True)\n",
            "      (conv2): Conv2d(256, 256, kernel_size=(3, 3), stride=(1, 1), padding=(1, 1), bias=False)\n",
            "      (bn2): BatchNorm2d(256, eps=1e-05, momentum=0.1, affine=True, track_running_stats=True)\n",
            "    )\n",
            "  )\n",
            "  (layer4): Sequential(\n",
            "    (0): BasicBlock(\n",
            "      (conv1): Conv2d(256, 512, kernel_size=(3, 3), stride=(2, 2), padding=(1, 1), bias=False)\n",
            "      (bn1): BatchNorm2d(512, eps=1e-05, momentum=0.1, affine=True, track_running_stats=True)\n",
            "      (relu): ReLU(inplace=True)\n",
            "      (conv2): Conv2d(512, 512, kernel_size=(3, 3), stride=(1, 1), padding=(1, 1), bias=False)\n",
            "      (bn2): BatchNorm2d(512, eps=1e-05, momentum=0.1, affine=True, track_running_stats=True)\n",
            "      (downsample): Sequential(\n",
            "        (0): Conv2d(256, 512, kernel_size=(1, 1), stride=(2, 2), bias=False)\n",
            "        (1): BatchNorm2d(512, eps=1e-05, momentum=0.1, affine=True, track_running_stats=True)\n",
            "      )\n",
            "    )\n",
            "    (1): BasicBlock(\n",
            "      (conv1): Conv2d(512, 512, kernel_size=(3, 3), stride=(1, 1), padding=(1, 1), bias=False)\n",
            "      (bn1): BatchNorm2d(512, eps=1e-05, momentum=0.1, affine=True, track_running_stats=True)\n",
            "      (relu): ReLU(inplace=True)\n",
            "      (conv2): Conv2d(512, 512, kernel_size=(3, 3), stride=(1, 1), padding=(1, 1), bias=False)\n",
            "      (bn2): BatchNorm2d(512, eps=1e-05, momentum=0.1, affine=True, track_running_stats=True)\n",
            "    )\n",
            "  )\n",
            "  (avgpool): AdaptiveAvgPool2d(output_size=(1, 1))\n",
            "  (fc): Linear(in_features=512, out_features=6, bias=True)\n",
            ")\n"
          ],
          "name": "stderr"
        },
        {
          "output_type": "stream",
          "text": [
            "\n"
          ],
          "name": "stdout"
        },
        {
          "output_type": "stream",
          "text": [
            "[2020-09-04 20:27:06,271 - thelper.cli.export_model] DEBUG : all done\n"
          ],
          "name": "stderr"
        }
      ]
    },
    {
      "cell_type": "markdown",
      "metadata": {
        "id": "5Qo4AfDlm_qr",
        "colab_type": "text"
      },
      "source": [
        "The code below requires geoimagenet API"
      ]
    },
    {
      "cell_type": "code",
      "metadata": {
        "id": "sMv3cuhliNwg",
        "colab_type": "code",
        "colab": {}
      },
      "source": [
        "\n",
        "update_model_class_mapping(class_mapping,\n",
        "                            '/home/sfoucher/DEV/geoimagenet/pth/deepglobe-resnet-18/deepglobe-resnet-18.export.pth', None)\n",
        "# success, model, buffer, exception = load_model('/home/sfoucher/DEV/geoimagenet/pth/deepglobe-unet/deepglobe-unet.export.pth')\n",
        "# validate_model(model)"
      ],
      "execution_count": null,
      "outputs": []
    }
  ]
}